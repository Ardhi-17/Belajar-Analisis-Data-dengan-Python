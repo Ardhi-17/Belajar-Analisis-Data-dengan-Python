{
  "cells": [
    {
      "cell_type": "markdown",
      "metadata": {
        "id": "view-in-github",
        "colab_type": "text"
      },
      "source": [
        "<a href=\"https://colab.research.google.com/github/Ardhi-17/Belajar-Analisis-Data-dengan-Python/blob/main/Proyek_Analisis_Data.ipynb\" target=\"_parent\"><img src=\"https://colab.research.google.com/assets/colab-badge.svg\" alt=\"Open In Colab\"/></a>"
      ]
    },
    {
      "cell_type": "markdown",
      "metadata": {
        "id": "H9wADwK78DCz"
      },
      "source": [
        "# Proyek Analisis Data: [E-Commerce]\n",
        "- **Nama:** Ahcmad Ardhi Arridho\n",
        "- **Email:** ardhigt17@gmail.com\n",
        "- **ID Dicoding:** ardhi_arridho"
      ]
    },
    {
      "cell_type": "markdown",
      "metadata": {
        "id": "eE0raob58DC0"
      },
      "source": [
        "## Menentukan Pertanyaan Bisnis"
      ]
    },
    {
      "cell_type": "markdown",
      "metadata": {
        "id": "GmQeQ5YF8DC0"
      },
      "source": [
        "\n",
        "- Apa tren penjualan bulanan, dan bagaimana evolusinya seiring waktu?\n",
        "\n",
        "- Bagaimana hubungan antara harga produk, biaya pengiriman, dan skor ulasan pelanggan?\n",
        "\n",
        "- Bagaimana mengelompokkan pelanggan berdasarkan perilaku pembelian mereka (Recency, Frequency, Monetary) untuk mengidentifikasi pelanggan yang paling berharga?\n",
        "\n",
        "- Bagaimana distribusi geografis pelanggan dan penjual di berbagai wilayah, dan apakah ada pola tertentu yang dapat membantu optimasi logistik atau strategi pemasaran lokal?\n",
        "- Bagaimana mengelompokkan produk berdasarkan kategori untuk mengidentifikasi jenis produk yang paling banyak dibeli atau memiliki potensi penjualan tinggi?\n"
      ]
    },
    {
      "cell_type": "markdown",
      "metadata": {
        "id": "H-z4QGlO8DC1"
      },
      "source": [
        "## Import Semua Packages/Library yang Digunakan"
      ]
    },
    {
      "cell_type": "code",
      "execution_count": 140,
      "metadata": {
        "id": "FVYwaObI8DC1"
      },
      "outputs": [],
      "source": [
        "import pandas as pd\n",
        "import seaborn as sns\n",
        "import matplotlib.pyplot as plt\n",
        "import numpy as np\n",
        "from matplotlib.ticker import FuncFormatter\n"
      ]
    },
    {
      "cell_type": "markdown",
      "metadata": {
        "id": "h_Sh51Xy8DC1"
      },
      "source": [
        "## Data Wrangling"
      ]
    },
    {
      "cell_type": "code",
      "source": [
        "from google.colab import drive\n",
        "drive.mount('/content/drive')"
      ],
      "metadata": {
        "id": "UwmjAPV6ZHho",
        "colab": {
          "base_uri": "https://localhost:8080/",
          "height": 0
        },
        "outputId": "4d355f58-8007-42f7-e5b5-e6d7330c8f15"
      },
      "execution_count": 2,
      "outputs": [
        {
          "output_type": "stream",
          "name": "stdout",
          "text": [
            "Drive already mounted at /content/drive; to attempt to forcibly remount, call drive.mount(\"/content/drive\", force_remount=True).\n"
          ]
        }
      ]
    },
    {
      "cell_type": "markdown",
      "metadata": {
        "id": "sXU2GBYu8DC1"
      },
      "source": [
        "### Gathering Data"
      ]
    },
    {
      "cell_type": "code",
      "execution_count": 3,
      "metadata": {
        "id": "zjCBk1BI8DC1",
        "colab": {
          "base_uri": "https://localhost:8080/",
          "height": 0
        },
        "outputId": "96b9db45-0e5d-4c7a-8ad0-a4e04e7cd9d4"
      },
      "outputs": [
        {
          "output_type": "stream",
          "name": "stdout",
          "text": [
            "Archive:  /content/drive/MyDrive/Colab Notebooks/E-commerce-public-dataset.zip\n",
            "replace /content/drive/MyDrive/Colab Notebooks/E-commerce-public-dataset/E-Commerce Public Dataset/customers_dataset.csv? [y]es, [n]o, [A]ll, [N]one, [r]ename: A\n",
            "  inflating: /content/drive/MyDrive/Colab Notebooks/E-commerce-public-dataset/E-Commerce Public Dataset/customers_dataset.csv  \n",
            "  inflating: /content/drive/MyDrive/Colab Notebooks/E-commerce-public-dataset/E-Commerce Public Dataset/geolocation_dataset.csv  \n",
            " extracting: /content/drive/MyDrive/Colab Notebooks/E-commerce-public-dataset/E-Commerce Public Dataset/New Text Document.txt  \n",
            "  inflating: /content/drive/MyDrive/Colab Notebooks/E-commerce-public-dataset/E-Commerce Public Dataset/order_items_dataset.csv  \n",
            "  inflating: /content/drive/MyDrive/Colab Notebooks/E-commerce-public-dataset/E-Commerce Public Dataset/order_payments_dataset.csv  \n",
            "  inflating: /content/drive/MyDrive/Colab Notebooks/E-commerce-public-dataset/E-Commerce Public Dataset/order_reviews_dataset.csv  \n",
            "  inflating: /content/drive/MyDrive/Colab Notebooks/E-commerce-public-dataset/E-Commerce Public Dataset/orders_dataset.csv  \n",
            "  inflating: /content/drive/MyDrive/Colab Notebooks/E-commerce-public-dataset/E-Commerce Public Dataset/product_category_name_translation.csv  \n",
            "  inflating: /content/drive/MyDrive/Colab Notebooks/E-commerce-public-dataset/E-Commerce Public Dataset/products_dataset.csv  \n",
            "  inflating: /content/drive/MyDrive/Colab Notebooks/E-commerce-public-dataset/E-Commerce Public Dataset/sellers_dataset.csv  \n"
          ]
        }
      ],
      "source": [
        "!unzip '/content/drive/MyDrive/Colab Notebooks/E-commerce-public-dataset.zip' -d '/content/drive/MyDrive/Colab Notebooks/E-commerce-public-dataset'"
      ]
    },
    {
      "cell_type": "code",
      "source": [
        "customers_df = pd.read_csv('/content/drive/MyDrive/Colab Notebooks/E-commerce-public-dataset/E-Commerce Public Dataset/customers_dataset.csv')\n",
        "geolocation_df = pd.read_csv('/content/drive/MyDrive/Colab Notebooks/E-commerce-public-dataset/E-Commerce Public Dataset/geolocation_dataset.csv')\n",
        "order_items_df = pd.read_csv('/content/drive/MyDrive/Colab Notebooks/E-commerce-public-dataset/E-Commerce Public Dataset/order_items_dataset.csv')\n",
        "order_payments_df = pd.read_csv('/content/drive/MyDrive/Colab Notebooks/E-commerce-public-dataset/E-Commerce Public Dataset/order_payments_dataset.csv')\n",
        "order_reviews_df = pd.read_csv('/content/drive/MyDrive/Colab Notebooks/E-commerce-public-dataset/E-Commerce Public Dataset/order_reviews_dataset.csv')\n",
        "orders_df = pd.read_csv('/content/drive/MyDrive/Colab Notebooks/E-commerce-public-dataset/E-Commerce Public Dataset/orders_dataset.csv')\n",
        "product_category_df = pd.read_csv('/content/drive/MyDrive/Colab Notebooks/E-commerce-public-dataset/E-Commerce Public Dataset/product_category_name_translation.csv')\n",
        "products_df = pd.read_csv('/content/drive/MyDrive/Colab Notebooks/E-commerce-public-dataset/E-Commerce Public Dataset/products_dataset.csv')\n",
        "sellers_df = pd.read_csv('/content/drive/MyDrive/Colab Notebooks/E-commerce-public-dataset/E-Commerce Public Dataset/sellers_dataset.csv')"
      ],
      "metadata": {
        "id": "kUpXyeO4flGH"
      },
      "execution_count": 4,
      "outputs": []
    },
    {
      "cell_type": "code",
      "source": [
        "customers_df.head()"
      ],
      "metadata": {
        "id": "9-Td7JnAji0c"
      },
      "execution_count": null,
      "outputs": []
    },
    {
      "cell_type": "code",
      "source": [
        "geolocation_df.head()"
      ],
      "metadata": {
        "id": "MR0T606Ajt7D"
      },
      "execution_count": null,
      "outputs": []
    },
    {
      "cell_type": "code",
      "source": [
        "order_items_df.head()"
      ],
      "metadata": {
        "id": "-J-SfMKojz0O"
      },
      "execution_count": null,
      "outputs": []
    },
    {
      "cell_type": "code",
      "source": [
        "order_payments_df.head()"
      ],
      "metadata": {
        "id": "yQKW3cmUj61m"
      },
      "execution_count": null,
      "outputs": []
    },
    {
      "cell_type": "code",
      "source": [
        "order_reviews_df.head()"
      ],
      "metadata": {
        "id": "U56n2hmyj80p"
      },
      "execution_count": null,
      "outputs": []
    },
    {
      "cell_type": "code",
      "source": [
        "orders_df.head()"
      ],
      "metadata": {
        "id": "zlPAWIDSkY3O"
      },
      "execution_count": null,
      "outputs": []
    },
    {
      "cell_type": "code",
      "source": [
        "product_category_df.head()"
      ],
      "metadata": {
        "id": "1ZwHRRQSkdnN"
      },
      "execution_count": null,
      "outputs": []
    },
    {
      "cell_type": "code",
      "source": [
        "products_df.head()"
      ],
      "metadata": {
        "id": "P12lXuSgkhOy"
      },
      "execution_count": null,
      "outputs": []
    },
    {
      "cell_type": "code",
      "source": [
        "sellers_df.head()"
      ],
      "metadata": {
        "id": "gTo3PqnLklTr"
      },
      "execution_count": null,
      "outputs": []
    },
    {
      "cell_type": "markdown",
      "source": [
        "**Insight:**\n",
        "- Semua dataset yang diperlukan dikumpulkan untuk proses selanjutnya dan menganalisa garis besar isi dataset"
      ],
      "metadata": {
        "id": "MMi6xGaDkbCi"
      }
    },
    {
      "cell_type": "markdown",
      "metadata": {
        "id": "FHSiqaZp8DC1"
      },
      "source": [
        "### Assessing Data"
      ]
    },
    {
      "cell_type": "markdown",
      "source": [
        "Asses Customer Data"
      ],
      "metadata": {
        "id": "01_Wk97vmMdf"
      }
    },
    {
      "cell_type": "code",
      "source": [
        "customers_df.info()"
      ],
      "metadata": {
        "id": "ax-3tEjc9Cj1"
      },
      "execution_count": null,
      "outputs": []
    },
    {
      "cell_type": "code",
      "source": [
        "customers_df.describe()"
      ],
      "metadata": {
        "id": "rRN2QKSJiXdm"
      },
      "execution_count": null,
      "outputs": []
    },
    {
      "cell_type": "code",
      "source": [
        "print ('Missing Value : ', customers_df.isna().sum())"
      ],
      "metadata": {
        "id": "ruWHyMq2ikLk"
      },
      "execution_count": null,
      "outputs": []
    },
    {
      "cell_type": "code",
      "source": [
        "print(\"Nilai Terduplikat : \", customers_df.duplicated().sum())"
      ],
      "metadata": {
        "id": "0vBK42stlzdx"
      },
      "execution_count": null,
      "outputs": []
    },
    {
      "cell_type": "markdown",
      "source": [
        "Asses Geolocation Data"
      ],
      "metadata": {
        "id": "mv1HZaWWnC20"
      }
    },
    {
      "cell_type": "code",
      "source": [
        "geolocation_df.info()"
      ],
      "metadata": {
        "id": "nlTP9Ga0nGIN"
      },
      "execution_count": null,
      "outputs": []
    },
    {
      "cell_type": "code",
      "source": [
        "geolocation_df.describe()"
      ],
      "metadata": {
        "id": "E25tgb0wnJtR"
      },
      "execution_count": null,
      "outputs": []
    },
    {
      "cell_type": "code",
      "source": [
        "print(\"Missing Value : \", geolocation_df.isna().sum())"
      ],
      "metadata": {
        "id": "FrS2pfjFnLx0"
      },
      "execution_count": null,
      "outputs": []
    },
    {
      "cell_type": "code",
      "source": [
        "print(\" Nilai Terduplikat : \", geolocation_df.duplicated().sum())"
      ],
      "metadata": {
        "id": "v5FWVOLonToR"
      },
      "execution_count": null,
      "outputs": []
    },
    {
      "cell_type": "markdown",
      "source": [
        "Asses Order Item Data"
      ],
      "metadata": {
        "id": "eWo7q7yqnbpr"
      }
    },
    {
      "cell_type": "code",
      "source": [
        "order_items_df.info()"
      ],
      "metadata": {
        "id": "H1mmjJHLnlUz"
      },
      "execution_count": null,
      "outputs": []
    },
    {
      "cell_type": "code",
      "source": [
        "order_items_df.describe()"
      ],
      "metadata": {
        "id": "KQyogqoInnOM"
      },
      "execution_count": null,
      "outputs": []
    },
    {
      "cell_type": "code",
      "source": [
        "print(\"Missing Value : \", order_items_df.isna().sum())"
      ],
      "metadata": {
        "id": "0U-CtoRMnpAO"
      },
      "execution_count": null,
      "outputs": []
    },
    {
      "cell_type": "code",
      "source": [
        "print(\"Nilai Terduplikat : \", order_items_df.duplicated().sum())"
      ],
      "metadata": {
        "id": "0q2h2tilnuZS"
      },
      "execution_count": null,
      "outputs": []
    },
    {
      "cell_type": "markdown",
      "source": [
        "Asses Order Payments Data"
      ],
      "metadata": {
        "id": "tnvC0o3_nxef"
      }
    },
    {
      "cell_type": "code",
      "source": [
        "order_payments_df.info()"
      ],
      "metadata": {
        "id": "1COeLE_Un1cL"
      },
      "execution_count": null,
      "outputs": []
    },
    {
      "cell_type": "code",
      "source": [
        "order_payments_df.describe()"
      ],
      "metadata": {
        "id": "pWGBjpkcn4AC"
      },
      "execution_count": null,
      "outputs": []
    },
    {
      "cell_type": "code",
      "source": [
        "print(\"Missing Value : \", order_payments_df.isna().sum())"
      ],
      "metadata": {
        "id": "7JwU9Ontn5uX"
      },
      "execution_count": null,
      "outputs": []
    },
    {
      "cell_type": "code",
      "source": [
        "print(\"Nilai Terduplikat : \", order_payments_df.duplicated().sum())"
      ],
      "metadata": {
        "id": "p26XkbIRn7Gw"
      },
      "execution_count": null,
      "outputs": []
    },
    {
      "cell_type": "markdown",
      "source": [
        "Asses Order Reviews Data"
      ],
      "metadata": {
        "id": "o2pxF-Y8n9AD"
      }
    },
    {
      "cell_type": "code",
      "source": [
        "order_reviews_df.info()"
      ],
      "metadata": {
        "id": "JwWKR1fzoA3e"
      },
      "execution_count": null,
      "outputs": []
    },
    {
      "cell_type": "code",
      "source": [
        "order_reviews_df.describe()"
      ],
      "metadata": {
        "id": "vlogmQCnoCf7"
      },
      "execution_count": null,
      "outputs": []
    },
    {
      "cell_type": "code",
      "source": [
        "print(\"Missing Value : \", order_reviews_df.isnull().sum())"
      ],
      "metadata": {
        "id": "I2vcgFiGoDjd"
      },
      "execution_count": null,
      "outputs": []
    },
    {
      "cell_type": "code",
      "source": [
        "print (\"Nilai Terduplikat : \", order_reviews_df.duplicated().sum())"
      ],
      "metadata": {
        "id": "jfUEjXmIoFaI"
      },
      "execution_count": null,
      "outputs": []
    },
    {
      "cell_type": "markdown",
      "source": [
        "Asses Order Data"
      ],
      "metadata": {
        "id": "cJEhpYstoHuI"
      }
    },
    {
      "cell_type": "code",
      "source": [
        "orders_df.info()"
      ],
      "metadata": {
        "id": "DIvL9KPnoLi7"
      },
      "execution_count": null,
      "outputs": []
    },
    {
      "cell_type": "code",
      "source": [
        "orders_df.describe()"
      ],
      "metadata": {
        "id": "AL41yGqioTvB"
      },
      "execution_count": null,
      "outputs": []
    },
    {
      "cell_type": "code",
      "source": [
        "print(\"Missing Value : \", orders_df.isna().sum())"
      ],
      "metadata": {
        "id": "RzUHDbjVoZ8T"
      },
      "execution_count": null,
      "outputs": []
    },
    {
      "cell_type": "code",
      "source": [
        "print(\"Nilai Terduplikat : \", orders_df.duplicated().sum())"
      ],
      "metadata": {
        "id": "9dIUxZN8odRS"
      },
      "execution_count": null,
      "outputs": []
    },
    {
      "cell_type": "markdown",
      "source": [
        "Asses Product Category Data"
      ],
      "metadata": {
        "id": "GjcEj-hIofPC"
      }
    },
    {
      "cell_type": "code",
      "source": [
        "products_df.info()"
      ],
      "metadata": {
        "id": "srHeujHLoieF"
      },
      "execution_count": null,
      "outputs": []
    },
    {
      "cell_type": "code",
      "source": [
        "products_df.describe()"
      ],
      "metadata": {
        "id": "ARkTb8tvolLu"
      },
      "execution_count": null,
      "outputs": []
    },
    {
      "cell_type": "code",
      "source": [
        "print(\"Missing Value : \", products_df.isnull().sum())"
      ],
      "metadata": {
        "id": "a4jO1MmFomae"
      },
      "execution_count": null,
      "outputs": []
    },
    {
      "cell_type": "code",
      "source": [
        "print(\"Nilai Terduplikat : \", products_df.duplicated().sum())"
      ],
      "metadata": {
        "id": "azDLE7DKooXk"
      },
      "execution_count": null,
      "outputs": []
    },
    {
      "cell_type": "markdown",
      "source": [
        "Asses product Data"
      ],
      "metadata": {
        "id": "PTjLrlg9oqMD"
      }
    },
    {
      "cell_type": "code",
      "source": [
        "product_category_df.info()"
      ],
      "metadata": {
        "id": "RLPWgVBRoupE"
      },
      "execution_count": null,
      "outputs": []
    },
    {
      "cell_type": "code",
      "source": [
        "product_category_df.describe()"
      ],
      "metadata": {
        "id": "QLzLUdtVoynC"
      },
      "execution_count": null,
      "outputs": []
    },
    {
      "cell_type": "code",
      "source": [
        "print(\"Missing Value : \", product_category_df.isna().sum())"
      ],
      "metadata": {
        "id": "PXaakW21o0Et"
      },
      "execution_count": null,
      "outputs": []
    },
    {
      "cell_type": "code",
      "source": [
        "print(\"Nilai Terduplikat : \", product_category_df.duplicated().sum())"
      ],
      "metadata": {
        "id": "bu11on0Mo2OJ"
      },
      "execution_count": null,
      "outputs": []
    },
    {
      "cell_type": "markdown",
      "source": [
        "Asses Seller Data"
      ],
      "metadata": {
        "id": "lZe3r8fYwKlR"
      }
    },
    {
      "cell_type": "code",
      "source": [
        "sellers_df.info()"
      ],
      "metadata": {
        "id": "i0t8XYbdwM1F"
      },
      "execution_count": null,
      "outputs": []
    },
    {
      "cell_type": "code",
      "source": [
        "sellers_df.describe()"
      ],
      "metadata": {
        "id": "LDZcdyytwPa1"
      },
      "execution_count": null,
      "outputs": []
    },
    {
      "cell_type": "code",
      "source": [
        "print(\"Missing Value : \", sellers_df.isna().sum())"
      ],
      "metadata": {
        "id": "k9Te9VxWwRUQ"
      },
      "execution_count": null,
      "outputs": []
    },
    {
      "cell_type": "code",
      "source": [
        "print(\"Nilai Terduplikat : \", sellers_df.duplicated().sum())"
      ],
      "metadata": {
        "id": "qc5s2uwHwSq1"
      },
      "execution_count": null,
      "outputs": []
    },
    {
      "cell_type": "markdown",
      "source": [
        "**Insight:**\n",
        "- Terdapat dataset yang memiliki nilai duplikat\n",
        "- Terdapat dataset yang memiliki Missing Value\n",
        "- Terdapat dataset yang tipe datanya tidak sesuai"
      ],
      "metadata": {
        "id": "7dtxhAPrkhPL"
      }
    },
    {
      "cell_type": "markdown",
      "metadata": {
        "id": "EhN5R4hr8DC1"
      },
      "source": [
        "### Cleaning Data"
      ]
    },
    {
      "cell_type": "markdown",
      "source": [
        "**Mengatasi Missing Values**"
      ],
      "metadata": {
        "id": "1G6RkotAwBvY"
      }
    },
    {
      "cell_type": "code",
      "source": [
        "products_df = products_df.dropna()"
      ],
      "metadata": {
        "id": "jVnYpprE9Evz"
      },
      "execution_count": 5,
      "outputs": []
    },
    {
      "cell_type": "code",
      "source": [
        "orders_df.loc[orders_df['order_approved_at'].isna(), 'order_approved_at'] = orders_df['order_purchase_timestamp']\n",
        "orders_df.loc[orders_df['order_delivered_carrier_date'].isna(), 'order_delivered_carrier_date'] = orders_df['order_approved_at']\n",
        "orders_df.loc[orders_df['order_delivered_customer_date'].isna(), 'order_delivered_customer_date'] = orders_df['order_delivered_carrier_date']"
      ],
      "metadata": {
        "id": "3ptrSCYZ3VRG"
      },
      "execution_count": 6,
      "outputs": []
    },
    {
      "cell_type": "code",
      "source": [
        "order_reviews_df['review_comment_title'] = order_reviews_df['review_comment_title'].fillna('No Title')\n",
        "order_reviews_df['review_comment_message'] = order_reviews_df['review_comment_message'].fillna('No Comment')"
      ],
      "metadata": {
        "id": "Fd1ICzbc5SuE"
      },
      "execution_count": 7,
      "outputs": []
    },
    {
      "cell_type": "markdown",
      "source": [
        "**Mengatasi Data Duplikat**\n"
      ],
      "metadata": {
        "id": "Rs-OgtCw5-4g"
      }
    },
    {
      "cell_type": "code",
      "source": [
        "geolocation_df.drop_duplicates(inplace=True)"
      ],
      "metadata": {
        "id": "iXUb1imV6Cco"
      },
      "execution_count": 8,
      "outputs": []
    },
    {
      "cell_type": "markdown",
      "source": [
        "**Mengkonversi Tipe Data yang Tidak Sesuai**\n"
      ],
      "metadata": {
        "id": "6Joz4j7d6t0d"
      }
    },
    {
      "cell_type": "markdown",
      "source": [],
      "metadata": {
        "id": "abzyqsEM7Nta"
      }
    },
    {
      "cell_type": "code",
      "source": [
        "orders_df['order_purchase_timestamp'] = pd.to_datetime(orders_df['order_purchase_timestamp'])\n",
        "orders_df['order_approved_at'] = pd.to_datetime(orders_df['order_approved_at'])\n",
        "orders_df['order_delivered_carrier_date'] = pd.to_datetime(orders_df['order_delivered_carrier_date'])\n",
        "orders_df['order_delivered_customer_date'] = pd.to_datetime(orders_df['order_delivered_customer_date'])\n",
        "orders_df['order_estimated_delivery_date'] = pd.to_datetime(orders_df['order_estimated_delivery_date'])"
      ],
      "metadata": {
        "id": "O9ZoLX_S7FI9"
      },
      "execution_count": 9,
      "outputs": []
    },
    {
      "cell_type": "code",
      "source": [
        "order_items_df['shipping_limit_date'] = pd.to_datetime(order_items_df['shipping_limit_date'])"
      ],
      "metadata": {
        "id": "dO17rRaV7_6Q"
      },
      "execution_count": 10,
      "outputs": []
    },
    {
      "cell_type": "code",
      "source": [
        "order_reviews_df['review_creation_date'] = pd.to_datetime(order_reviews_df['review_creation_date'])\n",
        "order_reviews_df['review_answer_timestamp'] = pd.to_datetime(order_reviews_df['review_answer_timestamp'])"
      ],
      "metadata": {
        "id": "iEqyeuqv8oVf"
      },
      "execution_count": 11,
      "outputs": []
    },
    {
      "cell_type": "code",
      "source": [
        "order_payments_df.nlargest(5, 'payment_value')"
      ],
      "metadata": {
        "id": "LImLCqub6FnQ",
        "colab": {
          "base_uri": "https://localhost:8080/",
          "height": 206
        },
        "outputId": "7912a099-d38f-4770-b9d5-e3cdf7eed835"
      },
      "execution_count": 12,
      "outputs": [
        {
          "output_type": "execute_result",
          "data": {
            "text/plain": [
              "                               order_id  payment_sequential payment_type  \\\n",
              "52107  03caa2c082116e1d31e67e9ae3700499                   1  credit_card   \n",
              "34370  736e1922ae60d0d6a89247b851902527                   1       boleto   \n",
              "41419  0812eb902a67711a1cb742b3cdaa65ae                   1  credit_card   \n",
              "49581  fefacc66af859508bf1a7934eab1e97f                   1       boleto   \n",
              "85539  f5136e38d1a14a4dbd87dff67da82701                   1       boleto   \n",
              "\n",
              "       payment_installments  payment_value  \n",
              "52107                     1       13664.08  \n",
              "34370                     1        7274.88  \n",
              "41419                     8        6929.31  \n",
              "49581                     1        6922.21  \n",
              "85539                     1        6726.66  "
            ],
            "text/html": [
              "\n",
              "  <div id=\"df-977c8096-a2f4-4dd3-a752-7e8b5c3e84ad\" class=\"colab-df-container\">\n",
              "    <div>\n",
              "<style scoped>\n",
              "    .dataframe tbody tr th:only-of-type {\n",
              "        vertical-align: middle;\n",
              "    }\n",
              "\n",
              "    .dataframe tbody tr th {\n",
              "        vertical-align: top;\n",
              "    }\n",
              "\n",
              "    .dataframe thead th {\n",
              "        text-align: right;\n",
              "    }\n",
              "</style>\n",
              "<table border=\"1\" class=\"dataframe\">\n",
              "  <thead>\n",
              "    <tr style=\"text-align: right;\">\n",
              "      <th></th>\n",
              "      <th>order_id</th>\n",
              "      <th>payment_sequential</th>\n",
              "      <th>payment_type</th>\n",
              "      <th>payment_installments</th>\n",
              "      <th>payment_value</th>\n",
              "    </tr>\n",
              "  </thead>\n",
              "  <tbody>\n",
              "    <tr>\n",
              "      <th>52107</th>\n",
              "      <td>03caa2c082116e1d31e67e9ae3700499</td>\n",
              "      <td>1</td>\n",
              "      <td>credit_card</td>\n",
              "      <td>1</td>\n",
              "      <td>13664.08</td>\n",
              "    </tr>\n",
              "    <tr>\n",
              "      <th>34370</th>\n",
              "      <td>736e1922ae60d0d6a89247b851902527</td>\n",
              "      <td>1</td>\n",
              "      <td>boleto</td>\n",
              "      <td>1</td>\n",
              "      <td>7274.88</td>\n",
              "    </tr>\n",
              "    <tr>\n",
              "      <th>41419</th>\n",
              "      <td>0812eb902a67711a1cb742b3cdaa65ae</td>\n",
              "      <td>1</td>\n",
              "      <td>credit_card</td>\n",
              "      <td>8</td>\n",
              "      <td>6929.31</td>\n",
              "    </tr>\n",
              "    <tr>\n",
              "      <th>49581</th>\n",
              "      <td>fefacc66af859508bf1a7934eab1e97f</td>\n",
              "      <td>1</td>\n",
              "      <td>boleto</td>\n",
              "      <td>1</td>\n",
              "      <td>6922.21</td>\n",
              "    </tr>\n",
              "    <tr>\n",
              "      <th>85539</th>\n",
              "      <td>f5136e38d1a14a4dbd87dff67da82701</td>\n",
              "      <td>1</td>\n",
              "      <td>boleto</td>\n",
              "      <td>1</td>\n",
              "      <td>6726.66</td>\n",
              "    </tr>\n",
              "  </tbody>\n",
              "</table>\n",
              "</div>\n",
              "    <div class=\"colab-df-buttons\">\n",
              "\n",
              "  <div class=\"colab-df-container\">\n",
              "    <button class=\"colab-df-convert\" onclick=\"convertToInteractive('df-977c8096-a2f4-4dd3-a752-7e8b5c3e84ad')\"\n",
              "            title=\"Convert this dataframe to an interactive table.\"\n",
              "            style=\"display:none;\">\n",
              "\n",
              "  <svg xmlns=\"http://www.w3.org/2000/svg\" height=\"24px\" viewBox=\"0 -960 960 960\">\n",
              "    <path d=\"M120-120v-720h720v720H120Zm60-500h600v-160H180v160Zm220 220h160v-160H400v160Zm0 220h160v-160H400v160ZM180-400h160v-160H180v160Zm440 0h160v-160H620v160ZM180-180h160v-160H180v160Zm440 0h160v-160H620v160Z\"/>\n",
              "  </svg>\n",
              "    </button>\n",
              "\n",
              "  <style>\n",
              "    .colab-df-container {\n",
              "      display:flex;\n",
              "      gap: 12px;\n",
              "    }\n",
              "\n",
              "    .colab-df-convert {\n",
              "      background-color: #E8F0FE;\n",
              "      border: none;\n",
              "      border-radius: 50%;\n",
              "      cursor: pointer;\n",
              "      display: none;\n",
              "      fill: #1967D2;\n",
              "      height: 32px;\n",
              "      padding: 0 0 0 0;\n",
              "      width: 32px;\n",
              "    }\n",
              "\n",
              "    .colab-df-convert:hover {\n",
              "      background-color: #E2EBFA;\n",
              "      box-shadow: 0px 1px 2px rgba(60, 64, 67, 0.3), 0px 1px 3px 1px rgba(60, 64, 67, 0.15);\n",
              "      fill: #174EA6;\n",
              "    }\n",
              "\n",
              "    .colab-df-buttons div {\n",
              "      margin-bottom: 4px;\n",
              "    }\n",
              "\n",
              "    [theme=dark] .colab-df-convert {\n",
              "      background-color: #3B4455;\n",
              "      fill: #D2E3FC;\n",
              "    }\n",
              "\n",
              "    [theme=dark] .colab-df-convert:hover {\n",
              "      background-color: #434B5C;\n",
              "      box-shadow: 0px 1px 3px 1px rgba(0, 0, 0, 0.15);\n",
              "      filter: drop-shadow(0px 1px 2px rgba(0, 0, 0, 0.3));\n",
              "      fill: #FFFFFF;\n",
              "    }\n",
              "  </style>\n",
              "\n",
              "    <script>\n",
              "      const buttonEl =\n",
              "        document.querySelector('#df-977c8096-a2f4-4dd3-a752-7e8b5c3e84ad button.colab-df-convert');\n",
              "      buttonEl.style.display =\n",
              "        google.colab.kernel.accessAllowed ? 'block' : 'none';\n",
              "\n",
              "      async function convertToInteractive(key) {\n",
              "        const element = document.querySelector('#df-977c8096-a2f4-4dd3-a752-7e8b5c3e84ad');\n",
              "        const dataTable =\n",
              "          await google.colab.kernel.invokeFunction('convertToInteractive',\n",
              "                                                    [key], {});\n",
              "        if (!dataTable) return;\n",
              "\n",
              "        const docLinkHtml = 'Like what you see? Visit the ' +\n",
              "          '<a target=\"_blank\" href=https://colab.research.google.com/notebooks/data_table.ipynb>data table notebook</a>'\n",
              "          + ' to learn more about interactive tables.';\n",
              "        element.innerHTML = '';\n",
              "        dataTable['output_type'] = 'display_data';\n",
              "        await google.colab.output.renderOutput(dataTable, element);\n",
              "        const docLink = document.createElement('div');\n",
              "        docLink.innerHTML = docLinkHtml;\n",
              "        element.appendChild(docLink);\n",
              "      }\n",
              "    </script>\n",
              "  </div>\n",
              "\n",
              "\n",
              "<div id=\"df-14e76c0c-31df-4e76-9f4b-514181324a40\">\n",
              "  <button class=\"colab-df-quickchart\" onclick=\"quickchart('df-14e76c0c-31df-4e76-9f4b-514181324a40')\"\n",
              "            title=\"Suggest charts\"\n",
              "            style=\"display:none;\">\n",
              "\n",
              "<svg xmlns=\"http://www.w3.org/2000/svg\" height=\"24px\"viewBox=\"0 0 24 24\"\n",
              "     width=\"24px\">\n",
              "    <g>\n",
              "        <path d=\"M19 3H5c-1.1 0-2 .9-2 2v14c0 1.1.9 2 2 2h14c1.1 0 2-.9 2-2V5c0-1.1-.9-2-2-2zM9 17H7v-7h2v7zm4 0h-2V7h2v10zm4 0h-2v-4h2v4z\"/>\n",
              "    </g>\n",
              "</svg>\n",
              "  </button>\n",
              "\n",
              "<style>\n",
              "  .colab-df-quickchart {\n",
              "      --bg-color: #E8F0FE;\n",
              "      --fill-color: #1967D2;\n",
              "      --hover-bg-color: #E2EBFA;\n",
              "      --hover-fill-color: #174EA6;\n",
              "      --disabled-fill-color: #AAA;\n",
              "      --disabled-bg-color: #DDD;\n",
              "  }\n",
              "\n",
              "  [theme=dark] .colab-df-quickchart {\n",
              "      --bg-color: #3B4455;\n",
              "      --fill-color: #D2E3FC;\n",
              "      --hover-bg-color: #434B5C;\n",
              "      --hover-fill-color: #FFFFFF;\n",
              "      --disabled-bg-color: #3B4455;\n",
              "      --disabled-fill-color: #666;\n",
              "  }\n",
              "\n",
              "  .colab-df-quickchart {\n",
              "    background-color: var(--bg-color);\n",
              "    border: none;\n",
              "    border-radius: 50%;\n",
              "    cursor: pointer;\n",
              "    display: none;\n",
              "    fill: var(--fill-color);\n",
              "    height: 32px;\n",
              "    padding: 0;\n",
              "    width: 32px;\n",
              "  }\n",
              "\n",
              "  .colab-df-quickchart:hover {\n",
              "    background-color: var(--hover-bg-color);\n",
              "    box-shadow: 0 1px 2px rgba(60, 64, 67, 0.3), 0 1px 3px 1px rgba(60, 64, 67, 0.15);\n",
              "    fill: var(--button-hover-fill-color);\n",
              "  }\n",
              "\n",
              "  .colab-df-quickchart-complete:disabled,\n",
              "  .colab-df-quickchart-complete:disabled:hover {\n",
              "    background-color: var(--disabled-bg-color);\n",
              "    fill: var(--disabled-fill-color);\n",
              "    box-shadow: none;\n",
              "  }\n",
              "\n",
              "  .colab-df-spinner {\n",
              "    border: 2px solid var(--fill-color);\n",
              "    border-color: transparent;\n",
              "    border-bottom-color: var(--fill-color);\n",
              "    animation:\n",
              "      spin 1s steps(1) infinite;\n",
              "  }\n",
              "\n",
              "  @keyframes spin {\n",
              "    0% {\n",
              "      border-color: transparent;\n",
              "      border-bottom-color: var(--fill-color);\n",
              "      border-left-color: var(--fill-color);\n",
              "    }\n",
              "    20% {\n",
              "      border-color: transparent;\n",
              "      border-left-color: var(--fill-color);\n",
              "      border-top-color: var(--fill-color);\n",
              "    }\n",
              "    30% {\n",
              "      border-color: transparent;\n",
              "      border-left-color: var(--fill-color);\n",
              "      border-top-color: var(--fill-color);\n",
              "      border-right-color: var(--fill-color);\n",
              "    }\n",
              "    40% {\n",
              "      border-color: transparent;\n",
              "      border-right-color: var(--fill-color);\n",
              "      border-top-color: var(--fill-color);\n",
              "    }\n",
              "    60% {\n",
              "      border-color: transparent;\n",
              "      border-right-color: var(--fill-color);\n",
              "    }\n",
              "    80% {\n",
              "      border-color: transparent;\n",
              "      border-right-color: var(--fill-color);\n",
              "      border-bottom-color: var(--fill-color);\n",
              "    }\n",
              "    90% {\n",
              "      border-color: transparent;\n",
              "      border-bottom-color: var(--fill-color);\n",
              "    }\n",
              "  }\n",
              "</style>\n",
              "\n",
              "  <script>\n",
              "    async function quickchart(key) {\n",
              "      const quickchartButtonEl =\n",
              "        document.querySelector('#' + key + ' button');\n",
              "      quickchartButtonEl.disabled = true;  // To prevent multiple clicks.\n",
              "      quickchartButtonEl.classList.add('colab-df-spinner');\n",
              "      try {\n",
              "        const charts = await google.colab.kernel.invokeFunction(\n",
              "            'suggestCharts', [key], {});\n",
              "      } catch (error) {\n",
              "        console.error('Error during call to suggestCharts:', error);\n",
              "      }\n",
              "      quickchartButtonEl.classList.remove('colab-df-spinner');\n",
              "      quickchartButtonEl.classList.add('colab-df-quickchart-complete');\n",
              "    }\n",
              "    (() => {\n",
              "      let quickchartButtonEl =\n",
              "        document.querySelector('#df-14e76c0c-31df-4e76-9f4b-514181324a40 button');\n",
              "      quickchartButtonEl.style.display =\n",
              "        google.colab.kernel.accessAllowed ? 'block' : 'none';\n",
              "    })();\n",
              "  </script>\n",
              "</div>\n",
              "\n",
              "    </div>\n",
              "  </div>\n"
            ],
            "application/vnd.google.colaboratory.intrinsic+json": {
              "type": "dataframe",
              "summary": "{\n  \"name\": \"order_payments_df\",\n  \"rows\": 5,\n  \"fields\": [\n    {\n      \"column\": \"order_id\",\n      \"properties\": {\n        \"dtype\": \"string\",\n        \"num_unique_values\": 5,\n        \"samples\": [\n          \"736e1922ae60d0d6a89247b851902527\",\n          \"f5136e38d1a14a4dbd87dff67da82701\",\n          \"0812eb902a67711a1cb742b3cdaa65ae\"\n        ],\n        \"semantic_type\": \"\",\n        \"description\": \"\"\n      }\n    },\n    {\n      \"column\": \"payment_sequential\",\n      \"properties\": {\n        \"dtype\": \"number\",\n        \"std\": 0,\n        \"min\": 1,\n        \"max\": 1,\n        \"num_unique_values\": 1,\n        \"samples\": [\n          1\n        ],\n        \"semantic_type\": \"\",\n        \"description\": \"\"\n      }\n    },\n    {\n      \"column\": \"payment_type\",\n      \"properties\": {\n        \"dtype\": \"category\",\n        \"num_unique_values\": 2,\n        \"samples\": [\n          \"boleto\"\n        ],\n        \"semantic_type\": \"\",\n        \"description\": \"\"\n      }\n    },\n    {\n      \"column\": \"payment_installments\",\n      \"properties\": {\n        \"dtype\": \"number\",\n        \"std\": 3,\n        \"min\": 1,\n        \"max\": 8,\n        \"num_unique_values\": 2,\n        \"samples\": [\n          8\n        ],\n        \"semantic_type\": \"\",\n        \"description\": \"\"\n      }\n    },\n    {\n      \"column\": \"payment_value\",\n      \"properties\": {\n        \"dtype\": \"number\",\n        \"std\": 3003.1925354812,\n        \"min\": 6726.66,\n        \"max\": 13664.08,\n        \"num_unique_values\": 5,\n        \"samples\": [\n          7274.88\n        ],\n        \"semantic_type\": \"\",\n        \"description\": \"\"\n      }\n    }\n  ]\n}"
            }
          },
          "metadata": {},
          "execution_count": 12
        }
      ]
    },
    {
      "cell_type": "code",
      "source": [
        "order_payments_df.nsmallest(5, 'payment_value')"
      ],
      "metadata": {
        "id": "Shwdhk856YDQ",
        "colab": {
          "base_uri": "https://localhost:8080/",
          "height": 206
        },
        "outputId": "d58d5397-aa4d-47dc-dafe-ad77ad93bb44"
      },
      "execution_count": 13,
      "outputs": [
        {
          "output_type": "execute_result",
          "data": {
            "text/plain": [
              "                               order_id  payment_sequential payment_type  \\\n",
              "19922  8bcbe01d44d147f901cd3192671144db                   4      voucher   \n",
              "36822  fa65dad1b0e818e3ccc5cb0e39231352                  14      voucher   \n",
              "43744  6ccb433e00daae1283ccc956189c82ae                   4      voucher   \n",
              "51280  4637ca194b6387e2d538dc89b124b0ee                   1  not_defined   \n",
              "57411  00b1cb0320190ca0daa2c88b35206009                   1  not_defined   \n",
              "\n",
              "       payment_installments  payment_value  \n",
              "19922                     1            0.0  \n",
              "36822                     1            0.0  \n",
              "43744                     1            0.0  \n",
              "51280                     1            0.0  \n",
              "57411                     1            0.0  "
            ],
            "text/html": [
              "\n",
              "  <div id=\"df-8e3fc2ca-eb77-491b-bd15-a127e776b6f8\" class=\"colab-df-container\">\n",
              "    <div>\n",
              "<style scoped>\n",
              "    .dataframe tbody tr th:only-of-type {\n",
              "        vertical-align: middle;\n",
              "    }\n",
              "\n",
              "    .dataframe tbody tr th {\n",
              "        vertical-align: top;\n",
              "    }\n",
              "\n",
              "    .dataframe thead th {\n",
              "        text-align: right;\n",
              "    }\n",
              "</style>\n",
              "<table border=\"1\" class=\"dataframe\">\n",
              "  <thead>\n",
              "    <tr style=\"text-align: right;\">\n",
              "      <th></th>\n",
              "      <th>order_id</th>\n",
              "      <th>payment_sequential</th>\n",
              "      <th>payment_type</th>\n",
              "      <th>payment_installments</th>\n",
              "      <th>payment_value</th>\n",
              "    </tr>\n",
              "  </thead>\n",
              "  <tbody>\n",
              "    <tr>\n",
              "      <th>19922</th>\n",
              "      <td>8bcbe01d44d147f901cd3192671144db</td>\n",
              "      <td>4</td>\n",
              "      <td>voucher</td>\n",
              "      <td>1</td>\n",
              "      <td>0.0</td>\n",
              "    </tr>\n",
              "    <tr>\n",
              "      <th>36822</th>\n",
              "      <td>fa65dad1b0e818e3ccc5cb0e39231352</td>\n",
              "      <td>14</td>\n",
              "      <td>voucher</td>\n",
              "      <td>1</td>\n",
              "      <td>0.0</td>\n",
              "    </tr>\n",
              "    <tr>\n",
              "      <th>43744</th>\n",
              "      <td>6ccb433e00daae1283ccc956189c82ae</td>\n",
              "      <td>4</td>\n",
              "      <td>voucher</td>\n",
              "      <td>1</td>\n",
              "      <td>0.0</td>\n",
              "    </tr>\n",
              "    <tr>\n",
              "      <th>51280</th>\n",
              "      <td>4637ca194b6387e2d538dc89b124b0ee</td>\n",
              "      <td>1</td>\n",
              "      <td>not_defined</td>\n",
              "      <td>1</td>\n",
              "      <td>0.0</td>\n",
              "    </tr>\n",
              "    <tr>\n",
              "      <th>57411</th>\n",
              "      <td>00b1cb0320190ca0daa2c88b35206009</td>\n",
              "      <td>1</td>\n",
              "      <td>not_defined</td>\n",
              "      <td>1</td>\n",
              "      <td>0.0</td>\n",
              "    </tr>\n",
              "  </tbody>\n",
              "</table>\n",
              "</div>\n",
              "    <div class=\"colab-df-buttons\">\n",
              "\n",
              "  <div class=\"colab-df-container\">\n",
              "    <button class=\"colab-df-convert\" onclick=\"convertToInteractive('df-8e3fc2ca-eb77-491b-bd15-a127e776b6f8')\"\n",
              "            title=\"Convert this dataframe to an interactive table.\"\n",
              "            style=\"display:none;\">\n",
              "\n",
              "  <svg xmlns=\"http://www.w3.org/2000/svg\" height=\"24px\" viewBox=\"0 -960 960 960\">\n",
              "    <path d=\"M120-120v-720h720v720H120Zm60-500h600v-160H180v160Zm220 220h160v-160H400v160Zm0 220h160v-160H400v160ZM180-400h160v-160H180v160Zm440 0h160v-160H620v160ZM180-180h160v-160H180v160Zm440 0h160v-160H620v160Z\"/>\n",
              "  </svg>\n",
              "    </button>\n",
              "\n",
              "  <style>\n",
              "    .colab-df-container {\n",
              "      display:flex;\n",
              "      gap: 12px;\n",
              "    }\n",
              "\n",
              "    .colab-df-convert {\n",
              "      background-color: #E8F0FE;\n",
              "      border: none;\n",
              "      border-radius: 50%;\n",
              "      cursor: pointer;\n",
              "      display: none;\n",
              "      fill: #1967D2;\n",
              "      height: 32px;\n",
              "      padding: 0 0 0 0;\n",
              "      width: 32px;\n",
              "    }\n",
              "\n",
              "    .colab-df-convert:hover {\n",
              "      background-color: #E2EBFA;\n",
              "      box-shadow: 0px 1px 2px rgba(60, 64, 67, 0.3), 0px 1px 3px 1px rgba(60, 64, 67, 0.15);\n",
              "      fill: #174EA6;\n",
              "    }\n",
              "\n",
              "    .colab-df-buttons div {\n",
              "      margin-bottom: 4px;\n",
              "    }\n",
              "\n",
              "    [theme=dark] .colab-df-convert {\n",
              "      background-color: #3B4455;\n",
              "      fill: #D2E3FC;\n",
              "    }\n",
              "\n",
              "    [theme=dark] .colab-df-convert:hover {\n",
              "      background-color: #434B5C;\n",
              "      box-shadow: 0px 1px 3px 1px rgba(0, 0, 0, 0.15);\n",
              "      filter: drop-shadow(0px 1px 2px rgba(0, 0, 0, 0.3));\n",
              "      fill: #FFFFFF;\n",
              "    }\n",
              "  </style>\n",
              "\n",
              "    <script>\n",
              "      const buttonEl =\n",
              "        document.querySelector('#df-8e3fc2ca-eb77-491b-bd15-a127e776b6f8 button.colab-df-convert');\n",
              "      buttonEl.style.display =\n",
              "        google.colab.kernel.accessAllowed ? 'block' : 'none';\n",
              "\n",
              "      async function convertToInteractive(key) {\n",
              "        const element = document.querySelector('#df-8e3fc2ca-eb77-491b-bd15-a127e776b6f8');\n",
              "        const dataTable =\n",
              "          await google.colab.kernel.invokeFunction('convertToInteractive',\n",
              "                                                    [key], {});\n",
              "        if (!dataTable) return;\n",
              "\n",
              "        const docLinkHtml = 'Like what you see? Visit the ' +\n",
              "          '<a target=\"_blank\" href=https://colab.research.google.com/notebooks/data_table.ipynb>data table notebook</a>'\n",
              "          + ' to learn more about interactive tables.';\n",
              "        element.innerHTML = '';\n",
              "        dataTable['output_type'] = 'display_data';\n",
              "        await google.colab.output.renderOutput(dataTable, element);\n",
              "        const docLink = document.createElement('div');\n",
              "        docLink.innerHTML = docLinkHtml;\n",
              "        element.appendChild(docLink);\n",
              "      }\n",
              "    </script>\n",
              "  </div>\n",
              "\n",
              "\n",
              "<div id=\"df-f84ca3c5-74f5-429d-80e6-aeda3a722af8\">\n",
              "  <button class=\"colab-df-quickchart\" onclick=\"quickchart('df-f84ca3c5-74f5-429d-80e6-aeda3a722af8')\"\n",
              "            title=\"Suggest charts\"\n",
              "            style=\"display:none;\">\n",
              "\n",
              "<svg xmlns=\"http://www.w3.org/2000/svg\" height=\"24px\"viewBox=\"0 0 24 24\"\n",
              "     width=\"24px\">\n",
              "    <g>\n",
              "        <path d=\"M19 3H5c-1.1 0-2 .9-2 2v14c0 1.1.9 2 2 2h14c1.1 0 2-.9 2-2V5c0-1.1-.9-2-2-2zM9 17H7v-7h2v7zm4 0h-2V7h2v10zm4 0h-2v-4h2v4z\"/>\n",
              "    </g>\n",
              "</svg>\n",
              "  </button>\n",
              "\n",
              "<style>\n",
              "  .colab-df-quickchart {\n",
              "      --bg-color: #E8F0FE;\n",
              "      --fill-color: #1967D2;\n",
              "      --hover-bg-color: #E2EBFA;\n",
              "      --hover-fill-color: #174EA6;\n",
              "      --disabled-fill-color: #AAA;\n",
              "      --disabled-bg-color: #DDD;\n",
              "  }\n",
              "\n",
              "  [theme=dark] .colab-df-quickchart {\n",
              "      --bg-color: #3B4455;\n",
              "      --fill-color: #D2E3FC;\n",
              "      --hover-bg-color: #434B5C;\n",
              "      --hover-fill-color: #FFFFFF;\n",
              "      --disabled-bg-color: #3B4455;\n",
              "      --disabled-fill-color: #666;\n",
              "  }\n",
              "\n",
              "  .colab-df-quickchart {\n",
              "    background-color: var(--bg-color);\n",
              "    border: none;\n",
              "    border-radius: 50%;\n",
              "    cursor: pointer;\n",
              "    display: none;\n",
              "    fill: var(--fill-color);\n",
              "    height: 32px;\n",
              "    padding: 0;\n",
              "    width: 32px;\n",
              "  }\n",
              "\n",
              "  .colab-df-quickchart:hover {\n",
              "    background-color: var(--hover-bg-color);\n",
              "    box-shadow: 0 1px 2px rgba(60, 64, 67, 0.3), 0 1px 3px 1px rgba(60, 64, 67, 0.15);\n",
              "    fill: var(--button-hover-fill-color);\n",
              "  }\n",
              "\n",
              "  .colab-df-quickchart-complete:disabled,\n",
              "  .colab-df-quickchart-complete:disabled:hover {\n",
              "    background-color: var(--disabled-bg-color);\n",
              "    fill: var(--disabled-fill-color);\n",
              "    box-shadow: none;\n",
              "  }\n",
              "\n",
              "  .colab-df-spinner {\n",
              "    border: 2px solid var(--fill-color);\n",
              "    border-color: transparent;\n",
              "    border-bottom-color: var(--fill-color);\n",
              "    animation:\n",
              "      spin 1s steps(1) infinite;\n",
              "  }\n",
              "\n",
              "  @keyframes spin {\n",
              "    0% {\n",
              "      border-color: transparent;\n",
              "      border-bottom-color: var(--fill-color);\n",
              "      border-left-color: var(--fill-color);\n",
              "    }\n",
              "    20% {\n",
              "      border-color: transparent;\n",
              "      border-left-color: var(--fill-color);\n",
              "      border-top-color: var(--fill-color);\n",
              "    }\n",
              "    30% {\n",
              "      border-color: transparent;\n",
              "      border-left-color: var(--fill-color);\n",
              "      border-top-color: var(--fill-color);\n",
              "      border-right-color: var(--fill-color);\n",
              "    }\n",
              "    40% {\n",
              "      border-color: transparent;\n",
              "      border-right-color: var(--fill-color);\n",
              "      border-top-color: var(--fill-color);\n",
              "    }\n",
              "    60% {\n",
              "      border-color: transparent;\n",
              "      border-right-color: var(--fill-color);\n",
              "    }\n",
              "    80% {\n",
              "      border-color: transparent;\n",
              "      border-right-color: var(--fill-color);\n",
              "      border-bottom-color: var(--fill-color);\n",
              "    }\n",
              "    90% {\n",
              "      border-color: transparent;\n",
              "      border-bottom-color: var(--fill-color);\n",
              "    }\n",
              "  }\n",
              "</style>\n",
              "\n",
              "  <script>\n",
              "    async function quickchart(key) {\n",
              "      const quickchartButtonEl =\n",
              "        document.querySelector('#' + key + ' button');\n",
              "      quickchartButtonEl.disabled = true;  // To prevent multiple clicks.\n",
              "      quickchartButtonEl.classList.add('colab-df-spinner');\n",
              "      try {\n",
              "        const charts = await google.colab.kernel.invokeFunction(\n",
              "            'suggestCharts', [key], {});\n",
              "      } catch (error) {\n",
              "        console.error('Error during call to suggestCharts:', error);\n",
              "      }\n",
              "      quickchartButtonEl.classList.remove('colab-df-spinner');\n",
              "      quickchartButtonEl.classList.add('colab-df-quickchart-complete');\n",
              "    }\n",
              "    (() => {\n",
              "      let quickchartButtonEl =\n",
              "        document.querySelector('#df-f84ca3c5-74f5-429d-80e6-aeda3a722af8 button');\n",
              "      quickchartButtonEl.style.display =\n",
              "        google.colab.kernel.accessAllowed ? 'block' : 'none';\n",
              "    })();\n",
              "  </script>\n",
              "</div>\n",
              "\n",
              "    </div>\n",
              "  </div>\n"
            ],
            "application/vnd.google.colaboratory.intrinsic+json": {
              "type": "dataframe",
              "summary": "{\n  \"name\": \"order_payments_df\",\n  \"rows\": 5,\n  \"fields\": [\n    {\n      \"column\": \"order_id\",\n      \"properties\": {\n        \"dtype\": \"string\",\n        \"num_unique_values\": 5,\n        \"samples\": [\n          \"fa65dad1b0e818e3ccc5cb0e39231352\",\n          \"00b1cb0320190ca0daa2c88b35206009\",\n          \"6ccb433e00daae1283ccc956189c82ae\"\n        ],\n        \"semantic_type\": \"\",\n        \"description\": \"\"\n      }\n    },\n    {\n      \"column\": \"payment_sequential\",\n      \"properties\": {\n        \"dtype\": \"number\",\n        \"std\": 5,\n        \"min\": 1,\n        \"max\": 14,\n        \"num_unique_values\": 3,\n        \"samples\": [\n          4,\n          14,\n          1\n        ],\n        \"semantic_type\": \"\",\n        \"description\": \"\"\n      }\n    },\n    {\n      \"column\": \"payment_type\",\n      \"properties\": {\n        \"dtype\": \"category\",\n        \"num_unique_values\": 2,\n        \"samples\": [\n          \"not_defined\",\n          \"voucher\"\n        ],\n        \"semantic_type\": \"\",\n        \"description\": \"\"\n      }\n    },\n    {\n      \"column\": \"payment_installments\",\n      \"properties\": {\n        \"dtype\": \"number\",\n        \"std\": 0,\n        \"min\": 1,\n        \"max\": 1,\n        \"num_unique_values\": 1,\n        \"samples\": [\n          1\n        ],\n        \"semantic_type\": \"\",\n        \"description\": \"\"\n      }\n    },\n    {\n      \"column\": \"payment_value\",\n      \"properties\": {\n        \"dtype\": \"number\",\n        \"std\": 0.0,\n        \"min\": 0.0,\n        \"max\": 0.0,\n        \"num_unique_values\": 1,\n        \"samples\": [\n          0.0\n        ],\n        \"semantic_type\": \"\",\n        \"description\": \"\"\n      }\n    }\n  ]\n}"
            }
          },
          "metadata": {},
          "execution_count": 13
        }
      ]
    },
    {
      "cell_type": "markdown",
      "source": [
        "**Insight:**\n",
        "- semua  Missing Value pada dataset products, orders dan juga order reviews sudah di atasi\n",
        "- Data duplikat yang harus di hapus pada geolocation dataset sudah teratasi dengan mengahapusnya\n",
        "- Mengkonversi Tipe Data yang tidak sesuai dengan Tipe Datanya\n"
      ],
      "metadata": {
        "id": "Q_5ejIqckiSP"
      }
    },
    {
      "cell_type": "markdown",
      "metadata": {
        "id": "gp-Y6wU38DC1"
      },
      "source": [
        "## Exploratory Data Analysis (EDA)"
      ]
    },
    {
      "cell_type": "markdown",
      "metadata": {
        "id": "MW7WF2kr8DC1"
      },
      "source": [
        "### Explore ..."
      ]
    },
    {
      "cell_type": "markdown",
      "source": [
        "Menggabungkan Dataset"
      ],
      "metadata": {
        "id": "ee2g9Gbf-jRO"
      }
    },
    {
      "cell_type": "markdown",
      "source": [
        "Menggabungkan Produk dengan Kategori Bahasa Inggris"
      ],
      "metadata": {
        "id": "Knes-C4D-OVL"
      }
    },
    {
      "cell_type": "code",
      "execution_count": 14,
      "metadata": {
        "id": "e9CQCZjk8DC2"
      },
      "outputs": [],
      "source": [
        "products_in_english_df = pd.merge(\n",
        "    left=products_df,\n",
        "    right=product_category_df,\n",
        "    how='left',\n",
        "    left_on='product_category_name',\n",
        "    right_on='product_category_name'\n",
        ")"
      ]
    },
    {
      "cell_type": "markdown",
      "source": [
        "Menggabungkan Order Items dengan Produk"
      ],
      "metadata": {
        "id": "34g5TYAR-Trt"
      }
    },
    {
      "cell_type": "code",
      "source": [
        "order_items_product_df = pd.merge(\n",
        "    left=order_items_df,\n",
        "    right=products_in_english_df,\n",
        "    how='left',\n",
        "    left_on='product_id',\n",
        "    right_on='product_id'\n",
        "    )\n",
        "\n",
        "order_payments_items_products_df = pd.merge(\n",
        "    left=order_items_product_df,\n",
        "    right=order_payments_df,\n",
        "    how='left',\n",
        "    left_on='order_id',\n",
        "    right_on='order_id'\n",
        "    )\n",
        "\n",
        "orders_item_df = pd.merge(\n",
        "    left=orders_df,\n",
        "    right=order_items_df,\n",
        "    how='left',\n",
        "    left_on='order_id',\n",
        "    right_on='order_id'\n",
        "    )\n"
      ],
      "metadata": {
        "id": "3SBdwOx17MT5"
      },
      "execution_count": 15,
      "outputs": []
    },
    {
      "cell_type": "markdown",
      "source": [
        "Mengganti order_item_id dengan order_item dan mengambil nilai maksimalnya dan Menyatukan semua order_id yang sama untuk mengatasi masalah order_id yang menumpuk"
      ],
      "metadata": {
        "id": "jz8FMP9iA2aq"
      }
    },
    {
      "cell_type": "code",
      "source": [
        "result_order_payments_items_products_df = order_payments_items_products_df.loc[order_payments_items_products_df.groupby('order_id')['order_item_id'].idxmax()]"
      ],
      "metadata": {
        "id": "Akep-g_QAsqs"
      },
      "execution_count": 16,
      "outputs": []
    },
    {
      "cell_type": "markdown",
      "source": [
        "Menghapus Missing Value"
      ],
      "metadata": {
        "id": "-FXBgtS7B3e4"
      }
    },
    {
      "cell_type": "code",
      "source": [
        "result_order_payments_items_products_df.dropna(inplace=True)"
      ],
      "metadata": {
        "id": "MiEjLNSUBrkQ"
      },
      "execution_count": 17,
      "outputs": []
    },
    {
      "cell_type": "code",
      "source": [
        "result_order_payments_items_products_df.isna().sum()"
      ],
      "metadata": {
        "colab": {
          "base_uri": "https://localhost:8080/",
          "height": 711
        },
        "id": "QjDhbCarBnos",
        "outputId": "b763abe9-577b-4c18-80ce-535b0b17d2c0"
      },
      "execution_count": 18,
      "outputs": [
        {
          "output_type": "execute_result",
          "data": {
            "text/plain": [
              "order_id                         0\n",
              "order_item_id                    0\n",
              "product_id                       0\n",
              "seller_id                        0\n",
              "shipping_limit_date              0\n",
              "price                            0\n",
              "freight_value                    0\n",
              "product_category_name            0\n",
              "product_name_lenght              0\n",
              "product_description_lenght       0\n",
              "product_photos_qty               0\n",
              "product_weight_g                 0\n",
              "product_length_cm                0\n",
              "product_height_cm                0\n",
              "product_width_cm                 0\n",
              "product_category_name_english    0\n",
              "payment_sequential               0\n",
              "payment_type                     0\n",
              "payment_installments             0\n",
              "payment_value                    0\n",
              "dtype: int64"
            ],
            "text/html": [
              "<div>\n",
              "<style scoped>\n",
              "    .dataframe tbody tr th:only-of-type {\n",
              "        vertical-align: middle;\n",
              "    }\n",
              "\n",
              "    .dataframe tbody tr th {\n",
              "        vertical-align: top;\n",
              "    }\n",
              "\n",
              "    .dataframe thead th {\n",
              "        text-align: right;\n",
              "    }\n",
              "</style>\n",
              "<table border=\"1\" class=\"dataframe\">\n",
              "  <thead>\n",
              "    <tr style=\"text-align: right;\">\n",
              "      <th></th>\n",
              "      <th>0</th>\n",
              "    </tr>\n",
              "  </thead>\n",
              "  <tbody>\n",
              "    <tr>\n",
              "      <th>order_id</th>\n",
              "      <td>0</td>\n",
              "    </tr>\n",
              "    <tr>\n",
              "      <th>order_item_id</th>\n",
              "      <td>0</td>\n",
              "    </tr>\n",
              "    <tr>\n",
              "      <th>product_id</th>\n",
              "      <td>0</td>\n",
              "    </tr>\n",
              "    <tr>\n",
              "      <th>seller_id</th>\n",
              "      <td>0</td>\n",
              "    </tr>\n",
              "    <tr>\n",
              "      <th>shipping_limit_date</th>\n",
              "      <td>0</td>\n",
              "    </tr>\n",
              "    <tr>\n",
              "      <th>price</th>\n",
              "      <td>0</td>\n",
              "    </tr>\n",
              "    <tr>\n",
              "      <th>freight_value</th>\n",
              "      <td>0</td>\n",
              "    </tr>\n",
              "    <tr>\n",
              "      <th>product_category_name</th>\n",
              "      <td>0</td>\n",
              "    </tr>\n",
              "    <tr>\n",
              "      <th>product_name_lenght</th>\n",
              "      <td>0</td>\n",
              "    </tr>\n",
              "    <tr>\n",
              "      <th>product_description_lenght</th>\n",
              "      <td>0</td>\n",
              "    </tr>\n",
              "    <tr>\n",
              "      <th>product_photos_qty</th>\n",
              "      <td>0</td>\n",
              "    </tr>\n",
              "    <tr>\n",
              "      <th>product_weight_g</th>\n",
              "      <td>0</td>\n",
              "    </tr>\n",
              "    <tr>\n",
              "      <th>product_length_cm</th>\n",
              "      <td>0</td>\n",
              "    </tr>\n",
              "    <tr>\n",
              "      <th>product_height_cm</th>\n",
              "      <td>0</td>\n",
              "    </tr>\n",
              "    <tr>\n",
              "      <th>product_width_cm</th>\n",
              "      <td>0</td>\n",
              "    </tr>\n",
              "    <tr>\n",
              "      <th>product_category_name_english</th>\n",
              "      <td>0</td>\n",
              "    </tr>\n",
              "    <tr>\n",
              "      <th>payment_sequential</th>\n",
              "      <td>0</td>\n",
              "    </tr>\n",
              "    <tr>\n",
              "      <th>payment_type</th>\n",
              "      <td>0</td>\n",
              "    </tr>\n",
              "    <tr>\n",
              "      <th>payment_installments</th>\n",
              "      <td>0</td>\n",
              "    </tr>\n",
              "    <tr>\n",
              "      <th>payment_value</th>\n",
              "      <td>0</td>\n",
              "    </tr>\n",
              "  </tbody>\n",
              "</table>\n",
              "</div><br><label><b>dtype:</b> int64</label>"
            ]
          },
          "metadata": {},
          "execution_count": 18
        }
      ]
    },
    {
      "cell_type": "markdown",
      "source": [
        "Menggabungkan DataSet Orders"
      ],
      "metadata": {
        "id": "LsqNdzYt-YHO"
      }
    },
    {
      "cell_type": "code",
      "source": [
        "orders_payment_df = pd.merge(\n",
        "    left=orders_item_df,\n",
        "    right=order_payments_df,\n",
        "    how='left',\n",
        "    left_on='order_id',\n",
        "    right_on='order_id'\n",
        ")\n",
        "\n",
        "all_orders_df = pd.merge(\n",
        "    left=orders_payment_df,\n",
        "    right=order_reviews_df,\n",
        "    how='left',\n",
        "    left_on='order_id',\n",
        "    right_on='order_id'\n",
        ")"
      ],
      "metadata": {
        "id": "K4egoxTF8Nyr"
      },
      "execution_count": 19,
      "outputs": []
    },
    {
      "cell_type": "code",
      "source": [
        "all_orders_df.dropna(inplace=True)"
      ],
      "metadata": {
        "id": "zjnZrr2CCwI0"
      },
      "execution_count": 20,
      "outputs": []
    },
    {
      "cell_type": "code",
      "source": [
        "all_orders_df.isna().sum()"
      ],
      "metadata": {
        "colab": {
          "base_uri": "https://localhost:8080/",
          "height": 836
        },
        "id": "hHYMx77TCry0",
        "outputId": "1e742885-7dfe-4004-b50b-1f6cca22d8aa"
      },
      "execution_count": 21,
      "outputs": [
        {
          "output_type": "execute_result",
          "data": {
            "text/plain": [
              "order_id                         0\n",
              "customer_id                      0\n",
              "order_status                     0\n",
              "order_purchase_timestamp         0\n",
              "order_approved_at                0\n",
              "order_delivered_carrier_date     0\n",
              "order_delivered_customer_date    0\n",
              "order_estimated_delivery_date    0\n",
              "order_item_id                    0\n",
              "product_id                       0\n",
              "seller_id                        0\n",
              "shipping_limit_date              0\n",
              "price                            0\n",
              "freight_value                    0\n",
              "payment_sequential               0\n",
              "payment_type                     0\n",
              "payment_installments             0\n",
              "payment_value                    0\n",
              "review_id                        0\n",
              "review_score                     0\n",
              "review_comment_title             0\n",
              "review_comment_message           0\n",
              "review_creation_date             0\n",
              "review_answer_timestamp          0\n",
              "dtype: int64"
            ],
            "text/html": [
              "<div>\n",
              "<style scoped>\n",
              "    .dataframe tbody tr th:only-of-type {\n",
              "        vertical-align: middle;\n",
              "    }\n",
              "\n",
              "    .dataframe tbody tr th {\n",
              "        vertical-align: top;\n",
              "    }\n",
              "\n",
              "    .dataframe thead th {\n",
              "        text-align: right;\n",
              "    }\n",
              "</style>\n",
              "<table border=\"1\" class=\"dataframe\">\n",
              "  <thead>\n",
              "    <tr style=\"text-align: right;\">\n",
              "      <th></th>\n",
              "      <th>0</th>\n",
              "    </tr>\n",
              "  </thead>\n",
              "  <tbody>\n",
              "    <tr>\n",
              "      <th>order_id</th>\n",
              "      <td>0</td>\n",
              "    </tr>\n",
              "    <tr>\n",
              "      <th>customer_id</th>\n",
              "      <td>0</td>\n",
              "    </tr>\n",
              "    <tr>\n",
              "      <th>order_status</th>\n",
              "      <td>0</td>\n",
              "    </tr>\n",
              "    <tr>\n",
              "      <th>order_purchase_timestamp</th>\n",
              "      <td>0</td>\n",
              "    </tr>\n",
              "    <tr>\n",
              "      <th>order_approved_at</th>\n",
              "      <td>0</td>\n",
              "    </tr>\n",
              "    <tr>\n",
              "      <th>order_delivered_carrier_date</th>\n",
              "      <td>0</td>\n",
              "    </tr>\n",
              "    <tr>\n",
              "      <th>order_delivered_customer_date</th>\n",
              "      <td>0</td>\n",
              "    </tr>\n",
              "    <tr>\n",
              "      <th>order_estimated_delivery_date</th>\n",
              "      <td>0</td>\n",
              "    </tr>\n",
              "    <tr>\n",
              "      <th>order_item_id</th>\n",
              "      <td>0</td>\n",
              "    </tr>\n",
              "    <tr>\n",
              "      <th>product_id</th>\n",
              "      <td>0</td>\n",
              "    </tr>\n",
              "    <tr>\n",
              "      <th>seller_id</th>\n",
              "      <td>0</td>\n",
              "    </tr>\n",
              "    <tr>\n",
              "      <th>shipping_limit_date</th>\n",
              "      <td>0</td>\n",
              "    </tr>\n",
              "    <tr>\n",
              "      <th>price</th>\n",
              "      <td>0</td>\n",
              "    </tr>\n",
              "    <tr>\n",
              "      <th>freight_value</th>\n",
              "      <td>0</td>\n",
              "    </tr>\n",
              "    <tr>\n",
              "      <th>payment_sequential</th>\n",
              "      <td>0</td>\n",
              "    </tr>\n",
              "    <tr>\n",
              "      <th>payment_type</th>\n",
              "      <td>0</td>\n",
              "    </tr>\n",
              "    <tr>\n",
              "      <th>payment_installments</th>\n",
              "      <td>0</td>\n",
              "    </tr>\n",
              "    <tr>\n",
              "      <th>payment_value</th>\n",
              "      <td>0</td>\n",
              "    </tr>\n",
              "    <tr>\n",
              "      <th>review_id</th>\n",
              "      <td>0</td>\n",
              "    </tr>\n",
              "    <tr>\n",
              "      <th>review_score</th>\n",
              "      <td>0</td>\n",
              "    </tr>\n",
              "    <tr>\n",
              "      <th>review_comment_title</th>\n",
              "      <td>0</td>\n",
              "    </tr>\n",
              "    <tr>\n",
              "      <th>review_comment_message</th>\n",
              "      <td>0</td>\n",
              "    </tr>\n",
              "    <tr>\n",
              "      <th>review_creation_date</th>\n",
              "      <td>0</td>\n",
              "    </tr>\n",
              "    <tr>\n",
              "      <th>review_answer_timestamp</th>\n",
              "      <td>0</td>\n",
              "    </tr>\n",
              "  </tbody>\n",
              "</table>\n",
              "</div><br><label><b>dtype:</b> int64</label>"
            ]
          },
          "metadata": {},
          "execution_count": 21
        }
      ]
    },
    {
      "cell_type": "code",
      "source": [
        "all_orders_df = all_orders_df.loc[all_orders_df.groupby('order_id')['order_item_id'].idxmax()]"
      ],
      "metadata": {
        "id": "Wgc5RDMYC6bN"
      },
      "execution_count": 22,
      "outputs": []
    },
    {
      "cell_type": "code",
      "source": [
        "all_orders_df.rename(columns={'order_item_id': 'qty_order'}, inplace=True)"
      ],
      "metadata": {
        "id": "nMlC1EY1C8aX"
      },
      "execution_count": 23,
      "outputs": []
    },
    {
      "cell_type": "markdown",
      "source": [
        "Menggabungkan DataSet Produk"
      ],
      "metadata": {
        "id": "dE5Atl3yDIRH"
      }
    },
    {
      "cell_type": "code",
      "source": [
        "products_df = pd.merge(\n",
        "    left=products_df,\n",
        "    right=product_category_df,\n",
        "    how='left',\n",
        "    left_on='product_category_name',\n",
        "    right_on='product_category_name'\n",
        ")"
      ],
      "metadata": {
        "id": "nbPs32KbLBu6"
      },
      "execution_count": 24,
      "outputs": []
    },
    {
      "cell_type": "code",
      "source": [
        "products_df.dropna(inplace=True)"
      ],
      "metadata": {
        "id": "_VpPocbPDEUP"
      },
      "execution_count": 25,
      "outputs": []
    },
    {
      "cell_type": "code",
      "source": [
        "products_df.isna().sum()"
      ],
      "metadata": {
        "colab": {
          "base_uri": "https://localhost:8080/",
          "height": 398
        },
        "id": "9RBk2s3JDE90",
        "outputId": "ef5b6071-aa4e-4bd5-be1d-0845693e5ef7"
      },
      "execution_count": 155,
      "outputs": [
        {
          "output_type": "execute_result",
          "data": {
            "text/plain": [
              "product_id                       0\n",
              "product_category_name            0\n",
              "product_name_lenght              0\n",
              "product_description_lenght       0\n",
              "product_photos_qty               0\n",
              "product_weight_g                 0\n",
              "product_length_cm                0\n",
              "product_height_cm                0\n",
              "product_width_cm                 0\n",
              "product_category_name_english    0\n",
              "dtype: int64"
            ],
            "text/html": [
              "<div>\n",
              "<style scoped>\n",
              "    .dataframe tbody tr th:only-of-type {\n",
              "        vertical-align: middle;\n",
              "    }\n",
              "\n",
              "    .dataframe tbody tr th {\n",
              "        vertical-align: top;\n",
              "    }\n",
              "\n",
              "    .dataframe thead th {\n",
              "        text-align: right;\n",
              "    }\n",
              "</style>\n",
              "<table border=\"1\" class=\"dataframe\">\n",
              "  <thead>\n",
              "    <tr style=\"text-align: right;\">\n",
              "      <th></th>\n",
              "      <th>0</th>\n",
              "    </tr>\n",
              "  </thead>\n",
              "  <tbody>\n",
              "    <tr>\n",
              "      <th>product_id</th>\n",
              "      <td>0</td>\n",
              "    </tr>\n",
              "    <tr>\n",
              "      <th>product_category_name</th>\n",
              "      <td>0</td>\n",
              "    </tr>\n",
              "    <tr>\n",
              "      <th>product_name_lenght</th>\n",
              "      <td>0</td>\n",
              "    </tr>\n",
              "    <tr>\n",
              "      <th>product_description_lenght</th>\n",
              "      <td>0</td>\n",
              "    </tr>\n",
              "    <tr>\n",
              "      <th>product_photos_qty</th>\n",
              "      <td>0</td>\n",
              "    </tr>\n",
              "    <tr>\n",
              "      <th>product_weight_g</th>\n",
              "      <td>0</td>\n",
              "    </tr>\n",
              "    <tr>\n",
              "      <th>product_length_cm</th>\n",
              "      <td>0</td>\n",
              "    </tr>\n",
              "    <tr>\n",
              "      <th>product_height_cm</th>\n",
              "      <td>0</td>\n",
              "    </tr>\n",
              "    <tr>\n",
              "      <th>product_width_cm</th>\n",
              "      <td>0</td>\n",
              "    </tr>\n",
              "    <tr>\n",
              "      <th>product_category_name_english</th>\n",
              "      <td>0</td>\n",
              "    </tr>\n",
              "  </tbody>\n",
              "</table>\n",
              "</div><br><label><b>dtype:</b> int64</label>"
            ]
          },
          "metadata": {},
          "execution_count": 155
        }
      ]
    },
    {
      "cell_type": "code",
      "source": [
        "orders_products_df = pd.merge(\n",
        "    left=all_orders_df,\n",
        "    right=products_df,\n",
        "    how='left',\n",
        "    left_on='product_id',\n",
        "    right_on='product_id'\n",
        ")"
      ],
      "metadata": {
        "id": "ZGGWQkjNDUaS"
      },
      "execution_count": 26,
      "outputs": []
    },
    {
      "cell_type": "code",
      "source": [
        "orders_products_df.info()"
      ],
      "metadata": {
        "colab": {
          "base_uri": "https://localhost:8080/",
          "height": 0
        },
        "id": "O5A74rr_IiLu",
        "outputId": "b857baed-ea06-4778-8df2-7a3db63c77eb"
      },
      "execution_count": 157,
      "outputs": [
        {
          "output_type": "stream",
          "name": "stdout",
          "text": [
            "<class 'pandas.core.frame.DataFrame'>\n",
            "RangeIndex: 97916 entries, 0 to 97915\n",
            "Data columns (total 33 columns):\n",
            " #   Column                         Non-Null Count  Dtype         \n",
            "---  ------                         --------------  -----         \n",
            " 0   order_id                       97916 non-null  object        \n",
            " 1   customer_id                    97916 non-null  object        \n",
            " 2   order_status                   97916 non-null  object        \n",
            " 3   order_purchase_timestamp       97916 non-null  datetime64[ns]\n",
            " 4   order_approved_at              97916 non-null  datetime64[ns]\n",
            " 5   order_delivered_carrier_date   97916 non-null  datetime64[ns]\n",
            " 6   order_delivered_customer_date  97916 non-null  datetime64[ns]\n",
            " 7   order_estimated_delivery_date  97916 non-null  datetime64[ns]\n",
            " 8   qty_order                      97916 non-null  float64       \n",
            " 9   product_id                     97916 non-null  object        \n",
            " 10  seller_id                      97916 non-null  object        \n",
            " 11  shipping_limit_date            97916 non-null  datetime64[ns]\n",
            " 12  price                          97916 non-null  float64       \n",
            " 13  freight_value                  97916 non-null  float64       \n",
            " 14  payment_sequential             97916 non-null  float64       \n",
            " 15  payment_type                   97916 non-null  object        \n",
            " 16  payment_installments           97916 non-null  float64       \n",
            " 17  payment_value                  97916 non-null  float64       \n",
            " 18  review_id                      97916 non-null  object        \n",
            " 19  review_score                   97916 non-null  float64       \n",
            " 20  review_comment_title           97916 non-null  object        \n",
            " 21  review_comment_message         97916 non-null  object        \n",
            " 22  review_creation_date           97916 non-null  datetime64[ns]\n",
            " 23  review_answer_timestamp        97916 non-null  datetime64[ns]\n",
            " 24  product_category_name          96485 non-null  object        \n",
            " 25  product_name_lenght            96485 non-null  float64       \n",
            " 26  product_description_lenght     96485 non-null  float64       \n",
            " 27  product_photos_qty             96485 non-null  float64       \n",
            " 28  product_weight_g               96485 non-null  float64       \n",
            " 29  product_length_cm              96485 non-null  float64       \n",
            " 30  product_height_cm              96485 non-null  float64       \n",
            " 31  product_width_cm               96485 non-null  float64       \n",
            " 32  product_category_name_english  96485 non-null  object        \n",
            "dtypes: datetime64[ns](8), float64(14), object(11)\n",
            "memory usage: 24.7+ MB\n"
          ]
        }
      ]
    },
    {
      "cell_type": "code",
      "source": [
        "orders_products_df.groupby(by='product_category_name_english').agg({\n",
        "    'product_id':'nunique',\n",
        "    'qty_order':'sum',\n",
        "    'review_score':'mean'\n",
        "}).sort_values(by=['review_score','qty_order'], ascending=False)"
      ],
      "metadata": {
        "colab": {
          "base_uri": "https://localhost:8080/",
          "height": 455
        },
        "id": "6Yn9eUXHGS6l",
        "outputId": "daa5806c-3d90-4d6f-9989-a28bb36c47d5"
      },
      "execution_count": 27,
      "outputs": [
        {
          "output_type": "execute_result",
          "data": {
            "text/plain": [
              "                               product_id  qty_order  review_score\n",
              "product_category_name_english                                     \n",
              "cds_dvds_musicals                       1       14.0      4.666667\n",
              "flowers                                14       29.0      4.538462\n",
              "books_general_interest                210      550.0      4.462451\n",
              "costruction_tools_tools                39       99.0      4.425532\n",
              "books_technical                       122      262.0      4.421260\n",
              "...                                   ...        ...           ...\n",
              "diapers_and_hygiene                    12       39.0      3.740741\n",
              "fashio_female_clothing                 25       47.0      3.736842\n",
              "fashion_male_clothing                  84      130.0      3.727273\n",
              "office_furniture                      303     1685.0      3.626889\n",
              "security_and_services                   2        2.0      2.500000\n",
              "\n",
              "[71 rows x 3 columns]"
            ],
            "text/html": [
              "\n",
              "  <div id=\"df-236ce1fa-a2ce-41e5-afaa-a178e070b31b\" class=\"colab-df-container\">\n",
              "    <div>\n",
              "<style scoped>\n",
              "    .dataframe tbody tr th:only-of-type {\n",
              "        vertical-align: middle;\n",
              "    }\n",
              "\n",
              "    .dataframe tbody tr th {\n",
              "        vertical-align: top;\n",
              "    }\n",
              "\n",
              "    .dataframe thead th {\n",
              "        text-align: right;\n",
              "    }\n",
              "</style>\n",
              "<table border=\"1\" class=\"dataframe\">\n",
              "  <thead>\n",
              "    <tr style=\"text-align: right;\">\n",
              "      <th></th>\n",
              "      <th>product_id</th>\n",
              "      <th>qty_order</th>\n",
              "      <th>review_score</th>\n",
              "    </tr>\n",
              "    <tr>\n",
              "      <th>product_category_name_english</th>\n",
              "      <th></th>\n",
              "      <th></th>\n",
              "      <th></th>\n",
              "    </tr>\n",
              "  </thead>\n",
              "  <tbody>\n",
              "    <tr>\n",
              "      <th>cds_dvds_musicals</th>\n",
              "      <td>1</td>\n",
              "      <td>14.0</td>\n",
              "      <td>4.666667</td>\n",
              "    </tr>\n",
              "    <tr>\n",
              "      <th>flowers</th>\n",
              "      <td>14</td>\n",
              "      <td>29.0</td>\n",
              "      <td>4.538462</td>\n",
              "    </tr>\n",
              "    <tr>\n",
              "      <th>books_general_interest</th>\n",
              "      <td>210</td>\n",
              "      <td>550.0</td>\n",
              "      <td>4.462451</td>\n",
              "    </tr>\n",
              "    <tr>\n",
              "      <th>costruction_tools_tools</th>\n",
              "      <td>39</td>\n",
              "      <td>99.0</td>\n",
              "      <td>4.425532</td>\n",
              "    </tr>\n",
              "    <tr>\n",
              "      <th>books_technical</th>\n",
              "      <td>122</td>\n",
              "      <td>262.0</td>\n",
              "      <td>4.421260</td>\n",
              "    </tr>\n",
              "    <tr>\n",
              "      <th>...</th>\n",
              "      <td>...</td>\n",
              "      <td>...</td>\n",
              "      <td>...</td>\n",
              "    </tr>\n",
              "    <tr>\n",
              "      <th>diapers_and_hygiene</th>\n",
              "      <td>12</td>\n",
              "      <td>39.0</td>\n",
              "      <td>3.740741</td>\n",
              "    </tr>\n",
              "    <tr>\n",
              "      <th>fashio_female_clothing</th>\n",
              "      <td>25</td>\n",
              "      <td>47.0</td>\n",
              "      <td>3.736842</td>\n",
              "    </tr>\n",
              "    <tr>\n",
              "      <th>fashion_male_clothing</th>\n",
              "      <td>84</td>\n",
              "      <td>130.0</td>\n",
              "      <td>3.727273</td>\n",
              "    </tr>\n",
              "    <tr>\n",
              "      <th>office_furniture</th>\n",
              "      <td>303</td>\n",
              "      <td>1685.0</td>\n",
              "      <td>3.626889</td>\n",
              "    </tr>\n",
              "    <tr>\n",
              "      <th>security_and_services</th>\n",
              "      <td>2</td>\n",
              "      <td>2.0</td>\n",
              "      <td>2.500000</td>\n",
              "    </tr>\n",
              "  </tbody>\n",
              "</table>\n",
              "<p>71 rows × 3 columns</p>\n",
              "</div>\n",
              "    <div class=\"colab-df-buttons\">\n",
              "\n",
              "  <div class=\"colab-df-container\">\n",
              "    <button class=\"colab-df-convert\" onclick=\"convertToInteractive('df-236ce1fa-a2ce-41e5-afaa-a178e070b31b')\"\n",
              "            title=\"Convert this dataframe to an interactive table.\"\n",
              "            style=\"display:none;\">\n",
              "\n",
              "  <svg xmlns=\"http://www.w3.org/2000/svg\" height=\"24px\" viewBox=\"0 -960 960 960\">\n",
              "    <path d=\"M120-120v-720h720v720H120Zm60-500h600v-160H180v160Zm220 220h160v-160H400v160Zm0 220h160v-160H400v160ZM180-400h160v-160H180v160Zm440 0h160v-160H620v160ZM180-180h160v-160H180v160Zm440 0h160v-160H620v160Z\"/>\n",
              "  </svg>\n",
              "    </button>\n",
              "\n",
              "  <style>\n",
              "    .colab-df-container {\n",
              "      display:flex;\n",
              "      gap: 12px;\n",
              "    }\n",
              "\n",
              "    .colab-df-convert {\n",
              "      background-color: #E8F0FE;\n",
              "      border: none;\n",
              "      border-radius: 50%;\n",
              "      cursor: pointer;\n",
              "      display: none;\n",
              "      fill: #1967D2;\n",
              "      height: 32px;\n",
              "      padding: 0 0 0 0;\n",
              "      width: 32px;\n",
              "    }\n",
              "\n",
              "    .colab-df-convert:hover {\n",
              "      background-color: #E2EBFA;\n",
              "      box-shadow: 0px 1px 2px rgba(60, 64, 67, 0.3), 0px 1px 3px 1px rgba(60, 64, 67, 0.15);\n",
              "      fill: #174EA6;\n",
              "    }\n",
              "\n",
              "    .colab-df-buttons div {\n",
              "      margin-bottom: 4px;\n",
              "    }\n",
              "\n",
              "    [theme=dark] .colab-df-convert {\n",
              "      background-color: #3B4455;\n",
              "      fill: #D2E3FC;\n",
              "    }\n",
              "\n",
              "    [theme=dark] .colab-df-convert:hover {\n",
              "      background-color: #434B5C;\n",
              "      box-shadow: 0px 1px 3px 1px rgba(0, 0, 0, 0.15);\n",
              "      filter: drop-shadow(0px 1px 2px rgba(0, 0, 0, 0.3));\n",
              "      fill: #FFFFFF;\n",
              "    }\n",
              "  </style>\n",
              "\n",
              "    <script>\n",
              "      const buttonEl =\n",
              "        document.querySelector('#df-236ce1fa-a2ce-41e5-afaa-a178e070b31b button.colab-df-convert');\n",
              "      buttonEl.style.display =\n",
              "        google.colab.kernel.accessAllowed ? 'block' : 'none';\n",
              "\n",
              "      async function convertToInteractive(key) {\n",
              "        const element = document.querySelector('#df-236ce1fa-a2ce-41e5-afaa-a178e070b31b');\n",
              "        const dataTable =\n",
              "          await google.colab.kernel.invokeFunction('convertToInteractive',\n",
              "                                                    [key], {});\n",
              "        if (!dataTable) return;\n",
              "\n",
              "        const docLinkHtml = 'Like what you see? Visit the ' +\n",
              "          '<a target=\"_blank\" href=https://colab.research.google.com/notebooks/data_table.ipynb>data table notebook</a>'\n",
              "          + ' to learn more about interactive tables.';\n",
              "        element.innerHTML = '';\n",
              "        dataTable['output_type'] = 'display_data';\n",
              "        await google.colab.output.renderOutput(dataTable, element);\n",
              "        const docLink = document.createElement('div');\n",
              "        docLink.innerHTML = docLinkHtml;\n",
              "        element.appendChild(docLink);\n",
              "      }\n",
              "    </script>\n",
              "  </div>\n",
              "\n",
              "\n",
              "<div id=\"df-9390925c-abd3-405a-a597-b883d0912c02\">\n",
              "  <button class=\"colab-df-quickchart\" onclick=\"quickchart('df-9390925c-abd3-405a-a597-b883d0912c02')\"\n",
              "            title=\"Suggest charts\"\n",
              "            style=\"display:none;\">\n",
              "\n",
              "<svg xmlns=\"http://www.w3.org/2000/svg\" height=\"24px\"viewBox=\"0 0 24 24\"\n",
              "     width=\"24px\">\n",
              "    <g>\n",
              "        <path d=\"M19 3H5c-1.1 0-2 .9-2 2v14c0 1.1.9 2 2 2h14c1.1 0 2-.9 2-2V5c0-1.1-.9-2-2-2zM9 17H7v-7h2v7zm4 0h-2V7h2v10zm4 0h-2v-4h2v4z\"/>\n",
              "    </g>\n",
              "</svg>\n",
              "  </button>\n",
              "\n",
              "<style>\n",
              "  .colab-df-quickchart {\n",
              "      --bg-color: #E8F0FE;\n",
              "      --fill-color: #1967D2;\n",
              "      --hover-bg-color: #E2EBFA;\n",
              "      --hover-fill-color: #174EA6;\n",
              "      --disabled-fill-color: #AAA;\n",
              "      --disabled-bg-color: #DDD;\n",
              "  }\n",
              "\n",
              "  [theme=dark] .colab-df-quickchart {\n",
              "      --bg-color: #3B4455;\n",
              "      --fill-color: #D2E3FC;\n",
              "      --hover-bg-color: #434B5C;\n",
              "      --hover-fill-color: #FFFFFF;\n",
              "      --disabled-bg-color: #3B4455;\n",
              "      --disabled-fill-color: #666;\n",
              "  }\n",
              "\n",
              "  .colab-df-quickchart {\n",
              "    background-color: var(--bg-color);\n",
              "    border: none;\n",
              "    border-radius: 50%;\n",
              "    cursor: pointer;\n",
              "    display: none;\n",
              "    fill: var(--fill-color);\n",
              "    height: 32px;\n",
              "    padding: 0;\n",
              "    width: 32px;\n",
              "  }\n",
              "\n",
              "  .colab-df-quickchart:hover {\n",
              "    background-color: var(--hover-bg-color);\n",
              "    box-shadow: 0 1px 2px rgba(60, 64, 67, 0.3), 0 1px 3px 1px rgba(60, 64, 67, 0.15);\n",
              "    fill: var(--button-hover-fill-color);\n",
              "  }\n",
              "\n",
              "  .colab-df-quickchart-complete:disabled,\n",
              "  .colab-df-quickchart-complete:disabled:hover {\n",
              "    background-color: var(--disabled-bg-color);\n",
              "    fill: var(--disabled-fill-color);\n",
              "    box-shadow: none;\n",
              "  }\n",
              "\n",
              "  .colab-df-spinner {\n",
              "    border: 2px solid var(--fill-color);\n",
              "    border-color: transparent;\n",
              "    border-bottom-color: var(--fill-color);\n",
              "    animation:\n",
              "      spin 1s steps(1) infinite;\n",
              "  }\n",
              "\n",
              "  @keyframes spin {\n",
              "    0% {\n",
              "      border-color: transparent;\n",
              "      border-bottom-color: var(--fill-color);\n",
              "      border-left-color: var(--fill-color);\n",
              "    }\n",
              "    20% {\n",
              "      border-color: transparent;\n",
              "      border-left-color: var(--fill-color);\n",
              "      border-top-color: var(--fill-color);\n",
              "    }\n",
              "    30% {\n",
              "      border-color: transparent;\n",
              "      border-left-color: var(--fill-color);\n",
              "      border-top-color: var(--fill-color);\n",
              "      border-right-color: var(--fill-color);\n",
              "    }\n",
              "    40% {\n",
              "      border-color: transparent;\n",
              "      border-right-color: var(--fill-color);\n",
              "      border-top-color: var(--fill-color);\n",
              "    }\n",
              "    60% {\n",
              "      border-color: transparent;\n",
              "      border-right-color: var(--fill-color);\n",
              "    }\n",
              "    80% {\n",
              "      border-color: transparent;\n",
              "      border-right-color: var(--fill-color);\n",
              "      border-bottom-color: var(--fill-color);\n",
              "    }\n",
              "    90% {\n",
              "      border-color: transparent;\n",
              "      border-bottom-color: var(--fill-color);\n",
              "    }\n",
              "  }\n",
              "</style>\n",
              "\n",
              "  <script>\n",
              "    async function quickchart(key) {\n",
              "      const quickchartButtonEl =\n",
              "        document.querySelector('#' + key + ' button');\n",
              "      quickchartButtonEl.disabled = true;  // To prevent multiple clicks.\n",
              "      quickchartButtonEl.classList.add('colab-df-spinner');\n",
              "      try {\n",
              "        const charts = await google.colab.kernel.invokeFunction(\n",
              "            'suggestCharts', [key], {});\n",
              "      } catch (error) {\n",
              "        console.error('Error during call to suggestCharts:', error);\n",
              "      }\n",
              "      quickchartButtonEl.classList.remove('colab-df-spinner');\n",
              "      quickchartButtonEl.classList.add('colab-df-quickchart-complete');\n",
              "    }\n",
              "    (() => {\n",
              "      let quickchartButtonEl =\n",
              "        document.querySelector('#df-9390925c-abd3-405a-a597-b883d0912c02 button');\n",
              "      quickchartButtonEl.style.display =\n",
              "        google.colab.kernel.accessAllowed ? 'block' : 'none';\n",
              "    })();\n",
              "  </script>\n",
              "</div>\n",
              "\n",
              "    </div>\n",
              "  </div>\n"
            ],
            "application/vnd.google.colaboratory.intrinsic+json": {
              "type": "dataframe",
              "summary": "{\n  \"name\": \"})\",\n  \"rows\": 71,\n  \"fields\": [\n    {\n      \"column\": \"product_category_name_english\",\n      \"properties\": {\n        \"dtype\": \"string\",\n        \"num_unique_values\": 71,\n        \"samples\": [\n          \"toys\",\n          \"cds_dvds_musicals\",\n          \"baby\"\n        ],\n        \"semantic_type\": \"\",\n        \"description\": \"\"\n      }\n    },\n    {\n      \"column\": \"product_id\",\n      \"properties\": {\n        \"dtype\": \"number\",\n        \"std\": 710,\n        \"min\": 1,\n        \"max\": 2815,\n        \"num_unique_values\": 65,\n        \"samples\": [\n          1108,\n          57,\n          1\n        ],\n        \"semantic_type\": \"\",\n        \"description\": \"\"\n      }\n    },\n    {\n      \"column\": \"qty_order\",\n      \"properties\": {\n        \"dtype\": \"number\",\n        \"std\": 2583.9781593441935,\n        \"min\": 2.0,\n        \"max\": 11004.0,\n        \"num_unique_values\": 67,\n        \"samples\": [\n          237.0,\n          1934.0,\n          262.0\n        ],\n        \"semantic_type\": \"\",\n        \"description\": \"\"\n      }\n    },\n    {\n      \"column\": \"review_score\",\n      \"properties\": {\n        \"dtype\": \"number\",\n        \"std\": 0.27159462440272886,\n        \"min\": 2.5,\n        \"max\": 4.666666666666667,\n        \"num_unique_values\": 70,\n        \"samples\": [\n          4.1924119241192415,\n          4.666666666666667,\n          4.050761421319797\n        ],\n        \"semantic_type\": \"\",\n        \"description\": \"\"\n      }\n    }\n  ]\n}"
            }
          },
          "metadata": {},
          "execution_count": 27
        }
      ]
    },
    {
      "cell_type": "code",
      "source": [
        "orders_products_df.dropna(inplace=True)"
      ],
      "metadata": {
        "id": "q1qEC50vDXhv"
      },
      "execution_count": 28,
      "outputs": []
    },
    {
      "cell_type": "code",
      "source": [
        "orders_products_df.isna().sum()"
      ],
      "metadata": {
        "colab": {
          "base_uri": "https://localhost:8080/",
          "height": 1119
        },
        "id": "NLETP8Z9DYk-",
        "outputId": "fba5778b-e284-4e19-9a03-02c9d16d727b"
      },
      "execution_count": 160,
      "outputs": [
        {
          "output_type": "execute_result",
          "data": {
            "text/plain": [
              "order_id                         0\n",
              "customer_id                      0\n",
              "order_status                     0\n",
              "order_purchase_timestamp         0\n",
              "order_approved_at                0\n",
              "order_delivered_carrier_date     0\n",
              "order_delivered_customer_date    0\n",
              "order_estimated_delivery_date    0\n",
              "qty_order                        0\n",
              "product_id                       0\n",
              "seller_id                        0\n",
              "shipping_limit_date              0\n",
              "price                            0\n",
              "freight_value                    0\n",
              "payment_sequential               0\n",
              "payment_type                     0\n",
              "payment_installments             0\n",
              "payment_value                    0\n",
              "review_id                        0\n",
              "review_score                     0\n",
              "review_comment_title             0\n",
              "review_comment_message           0\n",
              "review_creation_date             0\n",
              "review_answer_timestamp          0\n",
              "product_category_name            0\n",
              "product_name_lenght              0\n",
              "product_description_lenght       0\n",
              "product_photos_qty               0\n",
              "product_weight_g                 0\n",
              "product_length_cm                0\n",
              "product_height_cm                0\n",
              "product_width_cm                 0\n",
              "product_category_name_english    0\n",
              "dtype: int64"
            ],
            "text/html": [
              "<div>\n",
              "<style scoped>\n",
              "    .dataframe tbody tr th:only-of-type {\n",
              "        vertical-align: middle;\n",
              "    }\n",
              "\n",
              "    .dataframe tbody tr th {\n",
              "        vertical-align: top;\n",
              "    }\n",
              "\n",
              "    .dataframe thead th {\n",
              "        text-align: right;\n",
              "    }\n",
              "</style>\n",
              "<table border=\"1\" class=\"dataframe\">\n",
              "  <thead>\n",
              "    <tr style=\"text-align: right;\">\n",
              "      <th></th>\n",
              "      <th>0</th>\n",
              "    </tr>\n",
              "  </thead>\n",
              "  <tbody>\n",
              "    <tr>\n",
              "      <th>order_id</th>\n",
              "      <td>0</td>\n",
              "    </tr>\n",
              "    <tr>\n",
              "      <th>customer_id</th>\n",
              "      <td>0</td>\n",
              "    </tr>\n",
              "    <tr>\n",
              "      <th>order_status</th>\n",
              "      <td>0</td>\n",
              "    </tr>\n",
              "    <tr>\n",
              "      <th>order_purchase_timestamp</th>\n",
              "      <td>0</td>\n",
              "    </tr>\n",
              "    <tr>\n",
              "      <th>order_approved_at</th>\n",
              "      <td>0</td>\n",
              "    </tr>\n",
              "    <tr>\n",
              "      <th>order_delivered_carrier_date</th>\n",
              "      <td>0</td>\n",
              "    </tr>\n",
              "    <tr>\n",
              "      <th>order_delivered_customer_date</th>\n",
              "      <td>0</td>\n",
              "    </tr>\n",
              "    <tr>\n",
              "      <th>order_estimated_delivery_date</th>\n",
              "      <td>0</td>\n",
              "    </tr>\n",
              "    <tr>\n",
              "      <th>qty_order</th>\n",
              "      <td>0</td>\n",
              "    </tr>\n",
              "    <tr>\n",
              "      <th>product_id</th>\n",
              "      <td>0</td>\n",
              "    </tr>\n",
              "    <tr>\n",
              "      <th>seller_id</th>\n",
              "      <td>0</td>\n",
              "    </tr>\n",
              "    <tr>\n",
              "      <th>shipping_limit_date</th>\n",
              "      <td>0</td>\n",
              "    </tr>\n",
              "    <tr>\n",
              "      <th>price</th>\n",
              "      <td>0</td>\n",
              "    </tr>\n",
              "    <tr>\n",
              "      <th>freight_value</th>\n",
              "      <td>0</td>\n",
              "    </tr>\n",
              "    <tr>\n",
              "      <th>payment_sequential</th>\n",
              "      <td>0</td>\n",
              "    </tr>\n",
              "    <tr>\n",
              "      <th>payment_type</th>\n",
              "      <td>0</td>\n",
              "    </tr>\n",
              "    <tr>\n",
              "      <th>payment_installments</th>\n",
              "      <td>0</td>\n",
              "    </tr>\n",
              "    <tr>\n",
              "      <th>payment_value</th>\n",
              "      <td>0</td>\n",
              "    </tr>\n",
              "    <tr>\n",
              "      <th>review_id</th>\n",
              "      <td>0</td>\n",
              "    </tr>\n",
              "    <tr>\n",
              "      <th>review_score</th>\n",
              "      <td>0</td>\n",
              "    </tr>\n",
              "    <tr>\n",
              "      <th>review_comment_title</th>\n",
              "      <td>0</td>\n",
              "    </tr>\n",
              "    <tr>\n",
              "      <th>review_comment_message</th>\n",
              "      <td>0</td>\n",
              "    </tr>\n",
              "    <tr>\n",
              "      <th>review_creation_date</th>\n",
              "      <td>0</td>\n",
              "    </tr>\n",
              "    <tr>\n",
              "      <th>review_answer_timestamp</th>\n",
              "      <td>0</td>\n",
              "    </tr>\n",
              "    <tr>\n",
              "      <th>product_category_name</th>\n",
              "      <td>0</td>\n",
              "    </tr>\n",
              "    <tr>\n",
              "      <th>product_name_lenght</th>\n",
              "      <td>0</td>\n",
              "    </tr>\n",
              "    <tr>\n",
              "      <th>product_description_lenght</th>\n",
              "      <td>0</td>\n",
              "    </tr>\n",
              "    <tr>\n",
              "      <th>product_photos_qty</th>\n",
              "      <td>0</td>\n",
              "    </tr>\n",
              "    <tr>\n",
              "      <th>product_weight_g</th>\n",
              "      <td>0</td>\n",
              "    </tr>\n",
              "    <tr>\n",
              "      <th>product_length_cm</th>\n",
              "      <td>0</td>\n",
              "    </tr>\n",
              "    <tr>\n",
              "      <th>product_height_cm</th>\n",
              "      <td>0</td>\n",
              "    </tr>\n",
              "    <tr>\n",
              "      <th>product_width_cm</th>\n",
              "      <td>0</td>\n",
              "    </tr>\n",
              "    <tr>\n",
              "      <th>product_category_name_english</th>\n",
              "      <td>0</td>\n",
              "    </tr>\n",
              "  </tbody>\n",
              "</table>\n",
              "</div><br><label><b>dtype:</b> int64</label>"
            ]
          },
          "metadata": {},
          "execution_count": 160
        }
      ]
    },
    {
      "cell_type": "markdown",
      "source": [
        "ubah kolom data Lokasi customers dan kolom data lokasi dengan zip_code_prefix dan gabungkan"
      ],
      "metadata": {
        "id": "0ugLgz2KD45j"
      }
    },
    {
      "cell_type": "code",
      "source": [
        "geolocation_df.rename(columns={'geolocation_zip_code_prefix': 'zip_code_prefix'}, inplace=True)\n",
        "customers_df.rename(columns={'customer_zip_code_prefix': 'zip_code_prefix'}, inplace=True)"
      ],
      "metadata": {
        "id": "nkaCSJdJ_dT-"
      },
      "execution_count": 29,
      "outputs": []
    },
    {
      "cell_type": "code",
      "source": [
        "customers_df = pd.merge(\n",
        "    left=customers_df,\n",
        "    right=geolocation_df,\n",
        "    how='left',\n",
        "    left_on='zip_code_prefix',\n",
        "    right_on='zip_code_prefix'\n",
        ")"
      ],
      "metadata": {
        "id": "28oZAGBk_ad8"
      },
      "execution_count": 30,
      "outputs": []
    },
    {
      "cell_type": "code",
      "source": [
        "customers_df.dropna(inplace=True)"
      ],
      "metadata": {
        "id": "3m2WXhzsHO_3"
      },
      "execution_count": 31,
      "outputs": []
    },
    {
      "cell_type": "code",
      "source": [
        "customers_df.isna().sum()"
      ],
      "metadata": {
        "colab": {
          "base_uri": "https://localhost:8080/",
          "height": 366
        },
        "id": "BuQ5Oe99ENu6",
        "outputId": "b26048e6-c036-4bfd-f170-2522a0ed5983"
      },
      "execution_count": 32,
      "outputs": [
        {
          "output_type": "execute_result",
          "data": {
            "text/plain": [
              "customer_id           0\n",
              "customer_unique_id    0\n",
              "zip_code_prefix       0\n",
              "customer_city         0\n",
              "customer_state        0\n",
              "geolocation_lat       0\n",
              "geolocation_lng       0\n",
              "geolocation_city      0\n",
              "geolocation_state     0\n",
              "dtype: int64"
            ],
            "text/html": [
              "<div>\n",
              "<style scoped>\n",
              "    .dataframe tbody tr th:only-of-type {\n",
              "        vertical-align: middle;\n",
              "    }\n",
              "\n",
              "    .dataframe tbody tr th {\n",
              "        vertical-align: top;\n",
              "    }\n",
              "\n",
              "    .dataframe thead th {\n",
              "        text-align: right;\n",
              "    }\n",
              "</style>\n",
              "<table border=\"1\" class=\"dataframe\">\n",
              "  <thead>\n",
              "    <tr style=\"text-align: right;\">\n",
              "      <th></th>\n",
              "      <th>0</th>\n",
              "    </tr>\n",
              "  </thead>\n",
              "  <tbody>\n",
              "    <tr>\n",
              "      <th>customer_id</th>\n",
              "      <td>0</td>\n",
              "    </tr>\n",
              "    <tr>\n",
              "      <th>customer_unique_id</th>\n",
              "      <td>0</td>\n",
              "    </tr>\n",
              "    <tr>\n",
              "      <th>zip_code_prefix</th>\n",
              "      <td>0</td>\n",
              "    </tr>\n",
              "    <tr>\n",
              "      <th>customer_city</th>\n",
              "      <td>0</td>\n",
              "    </tr>\n",
              "    <tr>\n",
              "      <th>customer_state</th>\n",
              "      <td>0</td>\n",
              "    </tr>\n",
              "    <tr>\n",
              "      <th>geolocation_lat</th>\n",
              "      <td>0</td>\n",
              "    </tr>\n",
              "    <tr>\n",
              "      <th>geolocation_lng</th>\n",
              "      <td>0</td>\n",
              "    </tr>\n",
              "    <tr>\n",
              "      <th>geolocation_city</th>\n",
              "      <td>0</td>\n",
              "    </tr>\n",
              "    <tr>\n",
              "      <th>geolocation_state</th>\n",
              "      <td>0</td>\n",
              "    </tr>\n",
              "  </tbody>\n",
              "</table>\n",
              "</div><br><label><b>dtype:</b> int64</label>"
            ]
          },
          "metadata": {},
          "execution_count": 32
        }
      ]
    },
    {
      "cell_type": "code",
      "source": [
        "customers_df.dropna()"
      ],
      "metadata": {
        "colab": {
          "base_uri": "https://localhost:8080/",
          "height": 424
        },
        "id": "sdLW5PNOEW8v",
        "outputId": "c7472115-8955-47da-b9c7-4ca0f54b04cb"
      },
      "execution_count": 33,
      "outputs": [
        {
          "output_type": "execute_result",
          "data": {
            "text/plain": [
              "                               customer_id                customer_unique_id  \\\n",
              "0         06b8999e2fba1a1fbc88172c00ba8bc7  861eff4711a542e4b93843c6dd7febb0   \n",
              "1         06b8999e2fba1a1fbc88172c00ba8bc7  861eff4711a542e4b93843c6dd7febb0   \n",
              "2         06b8999e2fba1a1fbc88172c00ba8bc7  861eff4711a542e4b93843c6dd7febb0   \n",
              "3         06b8999e2fba1a1fbc88172c00ba8bc7  861eff4711a542e4b93843c6dd7febb0   \n",
              "4         06b8999e2fba1a1fbc88172c00ba8bc7  861eff4711a542e4b93843c6dd7febb0   \n",
              "...                                    ...                               ...   \n",
              "10328001  274fa6071e5e17fe303b9748641082c8  84732c5050c01db9b23e19ba39899398   \n",
              "10328002  274fa6071e5e17fe303b9748641082c8  84732c5050c01db9b23e19ba39899398   \n",
              "10328003  274fa6071e5e17fe303b9748641082c8  84732c5050c01db9b23e19ba39899398   \n",
              "10328004  274fa6071e5e17fe303b9748641082c8  84732c5050c01db9b23e19ba39899398   \n",
              "10328005  274fa6071e5e17fe303b9748641082c8  84732c5050c01db9b23e19ba39899398   \n",
              "\n",
              "          zip_code_prefix customer_city customer_state  geolocation_lat  \\\n",
              "0                   14409        franca             SP       -20.509897   \n",
              "1                   14409        franca             SP       -20.497396   \n",
              "2                   14409        franca             SP       -20.510459   \n",
              "3                   14409        franca             SP       -20.480940   \n",
              "4                   14409        franca             SP       -20.515413   \n",
              "...                   ...           ...            ...              ...   \n",
              "10328001             6703         cotia             SP       -23.598092   \n",
              "10328002             6703         cotia             SP       -23.594171   \n",
              "10328003             6703         cotia             SP       -23.599369   \n",
              "10328004             6703         cotia             SP       -23.584425   \n",
              "10328005             6703         cotia             SP       -23.595022   \n",
              "\n",
              "          geolocation_lng geolocation_city geolocation_state  \n",
              "0              -47.397866           franca                SP  \n",
              "1              -47.399241           franca                SP  \n",
              "2              -47.399553           franca                SP  \n",
              "3              -47.394161           franca                SP  \n",
              "4              -47.398194           franca                SP  \n",
              "...                   ...              ...               ...  \n",
              "10328001       -46.904582            cotia                SP  \n",
              "10328002       -46.908091            cotia                SP  \n",
              "10328003       -46.905603            cotia                SP  \n",
              "10328004       -46.892014            cotia                SP  \n",
              "10328005       -46.918546            cotia                SP  \n",
              "\n",
              "[10327728 rows x 9 columns]"
            ],
            "text/html": [
              "\n",
              "  <div id=\"df-84c75bbe-6011-4431-bbae-c3e3a0ca797b\" class=\"colab-df-container\">\n",
              "    <div>\n",
              "<style scoped>\n",
              "    .dataframe tbody tr th:only-of-type {\n",
              "        vertical-align: middle;\n",
              "    }\n",
              "\n",
              "    .dataframe tbody tr th {\n",
              "        vertical-align: top;\n",
              "    }\n",
              "\n",
              "    .dataframe thead th {\n",
              "        text-align: right;\n",
              "    }\n",
              "</style>\n",
              "<table border=\"1\" class=\"dataframe\">\n",
              "  <thead>\n",
              "    <tr style=\"text-align: right;\">\n",
              "      <th></th>\n",
              "      <th>customer_id</th>\n",
              "      <th>customer_unique_id</th>\n",
              "      <th>zip_code_prefix</th>\n",
              "      <th>customer_city</th>\n",
              "      <th>customer_state</th>\n",
              "      <th>geolocation_lat</th>\n",
              "      <th>geolocation_lng</th>\n",
              "      <th>geolocation_city</th>\n",
              "      <th>geolocation_state</th>\n",
              "    </tr>\n",
              "  </thead>\n",
              "  <tbody>\n",
              "    <tr>\n",
              "      <th>0</th>\n",
              "      <td>06b8999e2fba1a1fbc88172c00ba8bc7</td>\n",
              "      <td>861eff4711a542e4b93843c6dd7febb0</td>\n",
              "      <td>14409</td>\n",
              "      <td>franca</td>\n",
              "      <td>SP</td>\n",
              "      <td>-20.509897</td>\n",
              "      <td>-47.397866</td>\n",
              "      <td>franca</td>\n",
              "      <td>SP</td>\n",
              "    </tr>\n",
              "    <tr>\n",
              "      <th>1</th>\n",
              "      <td>06b8999e2fba1a1fbc88172c00ba8bc7</td>\n",
              "      <td>861eff4711a542e4b93843c6dd7febb0</td>\n",
              "      <td>14409</td>\n",
              "      <td>franca</td>\n",
              "      <td>SP</td>\n",
              "      <td>-20.497396</td>\n",
              "      <td>-47.399241</td>\n",
              "      <td>franca</td>\n",
              "      <td>SP</td>\n",
              "    </tr>\n",
              "    <tr>\n",
              "      <th>2</th>\n",
              "      <td>06b8999e2fba1a1fbc88172c00ba8bc7</td>\n",
              "      <td>861eff4711a542e4b93843c6dd7febb0</td>\n",
              "      <td>14409</td>\n",
              "      <td>franca</td>\n",
              "      <td>SP</td>\n",
              "      <td>-20.510459</td>\n",
              "      <td>-47.399553</td>\n",
              "      <td>franca</td>\n",
              "      <td>SP</td>\n",
              "    </tr>\n",
              "    <tr>\n",
              "      <th>3</th>\n",
              "      <td>06b8999e2fba1a1fbc88172c00ba8bc7</td>\n",
              "      <td>861eff4711a542e4b93843c6dd7febb0</td>\n",
              "      <td>14409</td>\n",
              "      <td>franca</td>\n",
              "      <td>SP</td>\n",
              "      <td>-20.480940</td>\n",
              "      <td>-47.394161</td>\n",
              "      <td>franca</td>\n",
              "      <td>SP</td>\n",
              "    </tr>\n",
              "    <tr>\n",
              "      <th>4</th>\n",
              "      <td>06b8999e2fba1a1fbc88172c00ba8bc7</td>\n",
              "      <td>861eff4711a542e4b93843c6dd7febb0</td>\n",
              "      <td>14409</td>\n",
              "      <td>franca</td>\n",
              "      <td>SP</td>\n",
              "      <td>-20.515413</td>\n",
              "      <td>-47.398194</td>\n",
              "      <td>franca</td>\n",
              "      <td>SP</td>\n",
              "    </tr>\n",
              "    <tr>\n",
              "      <th>...</th>\n",
              "      <td>...</td>\n",
              "      <td>...</td>\n",
              "      <td>...</td>\n",
              "      <td>...</td>\n",
              "      <td>...</td>\n",
              "      <td>...</td>\n",
              "      <td>...</td>\n",
              "      <td>...</td>\n",
              "      <td>...</td>\n",
              "    </tr>\n",
              "    <tr>\n",
              "      <th>10328001</th>\n",
              "      <td>274fa6071e5e17fe303b9748641082c8</td>\n",
              "      <td>84732c5050c01db9b23e19ba39899398</td>\n",
              "      <td>6703</td>\n",
              "      <td>cotia</td>\n",
              "      <td>SP</td>\n",
              "      <td>-23.598092</td>\n",
              "      <td>-46.904582</td>\n",
              "      <td>cotia</td>\n",
              "      <td>SP</td>\n",
              "    </tr>\n",
              "    <tr>\n",
              "      <th>10328002</th>\n",
              "      <td>274fa6071e5e17fe303b9748641082c8</td>\n",
              "      <td>84732c5050c01db9b23e19ba39899398</td>\n",
              "      <td>6703</td>\n",
              "      <td>cotia</td>\n",
              "      <td>SP</td>\n",
              "      <td>-23.594171</td>\n",
              "      <td>-46.908091</td>\n",
              "      <td>cotia</td>\n",
              "      <td>SP</td>\n",
              "    </tr>\n",
              "    <tr>\n",
              "      <th>10328003</th>\n",
              "      <td>274fa6071e5e17fe303b9748641082c8</td>\n",
              "      <td>84732c5050c01db9b23e19ba39899398</td>\n",
              "      <td>6703</td>\n",
              "      <td>cotia</td>\n",
              "      <td>SP</td>\n",
              "      <td>-23.599369</td>\n",
              "      <td>-46.905603</td>\n",
              "      <td>cotia</td>\n",
              "      <td>SP</td>\n",
              "    </tr>\n",
              "    <tr>\n",
              "      <th>10328004</th>\n",
              "      <td>274fa6071e5e17fe303b9748641082c8</td>\n",
              "      <td>84732c5050c01db9b23e19ba39899398</td>\n",
              "      <td>6703</td>\n",
              "      <td>cotia</td>\n",
              "      <td>SP</td>\n",
              "      <td>-23.584425</td>\n",
              "      <td>-46.892014</td>\n",
              "      <td>cotia</td>\n",
              "      <td>SP</td>\n",
              "    </tr>\n",
              "    <tr>\n",
              "      <th>10328005</th>\n",
              "      <td>274fa6071e5e17fe303b9748641082c8</td>\n",
              "      <td>84732c5050c01db9b23e19ba39899398</td>\n",
              "      <td>6703</td>\n",
              "      <td>cotia</td>\n",
              "      <td>SP</td>\n",
              "      <td>-23.595022</td>\n",
              "      <td>-46.918546</td>\n",
              "      <td>cotia</td>\n",
              "      <td>SP</td>\n",
              "    </tr>\n",
              "  </tbody>\n",
              "</table>\n",
              "<p>10327728 rows × 9 columns</p>\n",
              "</div>\n",
              "    <div class=\"colab-df-buttons\">\n",
              "\n",
              "  <div class=\"colab-df-container\">\n",
              "    <button class=\"colab-df-convert\" onclick=\"convertToInteractive('df-84c75bbe-6011-4431-bbae-c3e3a0ca797b')\"\n",
              "            title=\"Convert this dataframe to an interactive table.\"\n",
              "            style=\"display:none;\">\n",
              "\n",
              "  <svg xmlns=\"http://www.w3.org/2000/svg\" height=\"24px\" viewBox=\"0 -960 960 960\">\n",
              "    <path d=\"M120-120v-720h720v720H120Zm60-500h600v-160H180v160Zm220 220h160v-160H400v160Zm0 220h160v-160H400v160ZM180-400h160v-160H180v160Zm440 0h160v-160H620v160ZM180-180h160v-160H180v160Zm440 0h160v-160H620v160Z\"/>\n",
              "  </svg>\n",
              "    </button>\n",
              "\n",
              "  <style>\n",
              "    .colab-df-container {\n",
              "      display:flex;\n",
              "      gap: 12px;\n",
              "    }\n",
              "\n",
              "    .colab-df-convert {\n",
              "      background-color: #E8F0FE;\n",
              "      border: none;\n",
              "      border-radius: 50%;\n",
              "      cursor: pointer;\n",
              "      display: none;\n",
              "      fill: #1967D2;\n",
              "      height: 32px;\n",
              "      padding: 0 0 0 0;\n",
              "      width: 32px;\n",
              "    }\n",
              "\n",
              "    .colab-df-convert:hover {\n",
              "      background-color: #E2EBFA;\n",
              "      box-shadow: 0px 1px 2px rgba(60, 64, 67, 0.3), 0px 1px 3px 1px rgba(60, 64, 67, 0.15);\n",
              "      fill: #174EA6;\n",
              "    }\n",
              "\n",
              "    .colab-df-buttons div {\n",
              "      margin-bottom: 4px;\n",
              "    }\n",
              "\n",
              "    [theme=dark] .colab-df-convert {\n",
              "      background-color: #3B4455;\n",
              "      fill: #D2E3FC;\n",
              "    }\n",
              "\n",
              "    [theme=dark] .colab-df-convert:hover {\n",
              "      background-color: #434B5C;\n",
              "      box-shadow: 0px 1px 3px 1px rgba(0, 0, 0, 0.15);\n",
              "      filter: drop-shadow(0px 1px 2px rgba(0, 0, 0, 0.3));\n",
              "      fill: #FFFFFF;\n",
              "    }\n",
              "  </style>\n",
              "\n",
              "    <script>\n",
              "      const buttonEl =\n",
              "        document.querySelector('#df-84c75bbe-6011-4431-bbae-c3e3a0ca797b button.colab-df-convert');\n",
              "      buttonEl.style.display =\n",
              "        google.colab.kernel.accessAllowed ? 'block' : 'none';\n",
              "\n",
              "      async function convertToInteractive(key) {\n",
              "        const element = document.querySelector('#df-84c75bbe-6011-4431-bbae-c3e3a0ca797b');\n",
              "        const dataTable =\n",
              "          await google.colab.kernel.invokeFunction('convertToInteractive',\n",
              "                                                    [key], {});\n",
              "        if (!dataTable) return;\n",
              "\n",
              "        const docLinkHtml = 'Like what you see? Visit the ' +\n",
              "          '<a target=\"_blank\" href=https://colab.research.google.com/notebooks/data_table.ipynb>data table notebook</a>'\n",
              "          + ' to learn more about interactive tables.';\n",
              "        element.innerHTML = '';\n",
              "        dataTable['output_type'] = 'display_data';\n",
              "        await google.colab.output.renderOutput(dataTable, element);\n",
              "        const docLink = document.createElement('div');\n",
              "        docLink.innerHTML = docLinkHtml;\n",
              "        element.appendChild(docLink);\n",
              "      }\n",
              "    </script>\n",
              "  </div>\n",
              "\n",
              "\n",
              "<div id=\"df-54948aff-a10a-4bee-94fa-34d48c9f1516\">\n",
              "  <button class=\"colab-df-quickchart\" onclick=\"quickchart('df-54948aff-a10a-4bee-94fa-34d48c9f1516')\"\n",
              "            title=\"Suggest charts\"\n",
              "            style=\"display:none;\">\n",
              "\n",
              "<svg xmlns=\"http://www.w3.org/2000/svg\" height=\"24px\"viewBox=\"0 0 24 24\"\n",
              "     width=\"24px\">\n",
              "    <g>\n",
              "        <path d=\"M19 3H5c-1.1 0-2 .9-2 2v14c0 1.1.9 2 2 2h14c1.1 0 2-.9 2-2V5c0-1.1-.9-2-2-2zM9 17H7v-7h2v7zm4 0h-2V7h2v10zm4 0h-2v-4h2v4z\"/>\n",
              "    </g>\n",
              "</svg>\n",
              "  </button>\n",
              "\n",
              "<style>\n",
              "  .colab-df-quickchart {\n",
              "      --bg-color: #E8F0FE;\n",
              "      --fill-color: #1967D2;\n",
              "      --hover-bg-color: #E2EBFA;\n",
              "      --hover-fill-color: #174EA6;\n",
              "      --disabled-fill-color: #AAA;\n",
              "      --disabled-bg-color: #DDD;\n",
              "  }\n",
              "\n",
              "  [theme=dark] .colab-df-quickchart {\n",
              "      --bg-color: #3B4455;\n",
              "      --fill-color: #D2E3FC;\n",
              "      --hover-bg-color: #434B5C;\n",
              "      --hover-fill-color: #FFFFFF;\n",
              "      --disabled-bg-color: #3B4455;\n",
              "      --disabled-fill-color: #666;\n",
              "  }\n",
              "\n",
              "  .colab-df-quickchart {\n",
              "    background-color: var(--bg-color);\n",
              "    border: none;\n",
              "    border-radius: 50%;\n",
              "    cursor: pointer;\n",
              "    display: none;\n",
              "    fill: var(--fill-color);\n",
              "    height: 32px;\n",
              "    padding: 0;\n",
              "    width: 32px;\n",
              "  }\n",
              "\n",
              "  .colab-df-quickchart:hover {\n",
              "    background-color: var(--hover-bg-color);\n",
              "    box-shadow: 0 1px 2px rgba(60, 64, 67, 0.3), 0 1px 3px 1px rgba(60, 64, 67, 0.15);\n",
              "    fill: var(--button-hover-fill-color);\n",
              "  }\n",
              "\n",
              "  .colab-df-quickchart-complete:disabled,\n",
              "  .colab-df-quickchart-complete:disabled:hover {\n",
              "    background-color: var(--disabled-bg-color);\n",
              "    fill: var(--disabled-fill-color);\n",
              "    box-shadow: none;\n",
              "  }\n",
              "\n",
              "  .colab-df-spinner {\n",
              "    border: 2px solid var(--fill-color);\n",
              "    border-color: transparent;\n",
              "    border-bottom-color: var(--fill-color);\n",
              "    animation:\n",
              "      spin 1s steps(1) infinite;\n",
              "  }\n",
              "\n",
              "  @keyframes spin {\n",
              "    0% {\n",
              "      border-color: transparent;\n",
              "      border-bottom-color: var(--fill-color);\n",
              "      border-left-color: var(--fill-color);\n",
              "    }\n",
              "    20% {\n",
              "      border-color: transparent;\n",
              "      border-left-color: var(--fill-color);\n",
              "      border-top-color: var(--fill-color);\n",
              "    }\n",
              "    30% {\n",
              "      border-color: transparent;\n",
              "      border-left-color: var(--fill-color);\n",
              "      border-top-color: var(--fill-color);\n",
              "      border-right-color: var(--fill-color);\n",
              "    }\n",
              "    40% {\n",
              "      border-color: transparent;\n",
              "      border-right-color: var(--fill-color);\n",
              "      border-top-color: var(--fill-color);\n",
              "    }\n",
              "    60% {\n",
              "      border-color: transparent;\n",
              "      border-right-color: var(--fill-color);\n",
              "    }\n",
              "    80% {\n",
              "      border-color: transparent;\n",
              "      border-right-color: var(--fill-color);\n",
              "      border-bottom-color: var(--fill-color);\n",
              "    }\n",
              "    90% {\n",
              "      border-color: transparent;\n",
              "      border-bottom-color: var(--fill-color);\n",
              "    }\n",
              "  }\n",
              "</style>\n",
              "\n",
              "  <script>\n",
              "    async function quickchart(key) {\n",
              "      const quickchartButtonEl =\n",
              "        document.querySelector('#' + key + ' button');\n",
              "      quickchartButtonEl.disabled = true;  // To prevent multiple clicks.\n",
              "      quickchartButtonEl.classList.add('colab-df-spinner');\n",
              "      try {\n",
              "        const charts = await google.colab.kernel.invokeFunction(\n",
              "            'suggestCharts', [key], {});\n",
              "      } catch (error) {\n",
              "        console.error('Error during call to suggestCharts:', error);\n",
              "      }\n",
              "      quickchartButtonEl.classList.remove('colab-df-spinner');\n",
              "      quickchartButtonEl.classList.add('colab-df-quickchart-complete');\n",
              "    }\n",
              "    (() => {\n",
              "      let quickchartButtonEl =\n",
              "        document.querySelector('#df-54948aff-a10a-4bee-94fa-34d48c9f1516 button');\n",
              "      quickchartButtonEl.style.display =\n",
              "        google.colab.kernel.accessAllowed ? 'block' : 'none';\n",
              "    })();\n",
              "  </script>\n",
              "</div>\n",
              "\n",
              "    </div>\n",
              "  </div>\n"
            ],
            "application/vnd.google.colaboratory.intrinsic+json": {
              "type": "dataframe"
            }
          },
          "metadata": {},
          "execution_count": 33
        }
      ]
    },
    {
      "cell_type": "markdown",
      "source": [
        "Hapus data yang terduplikat pada kolom customer_id dan customer_uniqe_id sehingga menghasilkan 1 customer_id untuk setiap customer_unique_id"
      ],
      "metadata": {
        "id": "CnfqJEqBEwsn"
      }
    },
    {
      "cell_type": "code",
      "source": [
        "drop_duplicates = customers_df.drop_duplicates('customer_id', keep='first')\n",
        "customers_df = pd.concat([\n",
        "    drop_duplicates, customers_df[~customers_df.duplicated('customer_id', keep=False)]\n",
        "])\n",
        "customers_df = customers_df.reset_index(drop=True)"
      ],
      "metadata": {
        "id": "G9iouMCZEplH"
      },
      "execution_count": 34,
      "outputs": []
    },
    {
      "cell_type": "code",
      "source": [
        "customers_df = customers_df.drop_duplicates(subset='customer_id', keep='first').reset_index(drop=True)"
      ],
      "metadata": {
        "id": "ZJWAzwg7EvdI"
      },
      "execution_count": 35,
      "outputs": []
    },
    {
      "cell_type": "markdown",
      "source": [
        "Gabungkan Dataset Sellers"
      ],
      "metadata": {
        "id": "iW0maS_gFLFD"
      }
    },
    {
      "cell_type": "code",
      "source": [
        "sellers_df.rename(columns={'seller_zip_code_prefix': 'zip_code_prefix'}, inplace=True)"
      ],
      "metadata": {
        "id": "sfJ5hd1RFQOR"
      },
      "execution_count": 36,
      "outputs": []
    },
    {
      "cell_type": "code",
      "source": [
        "sellers_df = pd.merge(\n",
        "    left=sellers_df,\n",
        "    right=geolocation_df,\n",
        "    how='left',\n",
        "    left_on='zip_code_prefix',\n",
        "    right_on='zip_code_prefix'\n",
        ")"
      ],
      "metadata": {
        "id": "CkJ67bQh_je6"
      },
      "execution_count": 37,
      "outputs": []
    },
    {
      "cell_type": "code",
      "source": [
        "sellers_df.dropna(inplace=True)"
      ],
      "metadata": {
        "id": "2gQRfB0tFSXL"
      },
      "execution_count": 38,
      "outputs": []
    },
    {
      "cell_type": "code",
      "source": [
        "sellers_df.isna().sum()"
      ],
      "metadata": {
        "colab": {
          "base_uri": "https://localhost:8080/",
          "height": 335
        },
        "id": "rqRa5hp8FS91",
        "outputId": "9353badc-8dbb-4ffd-cd19-30dcac90631a"
      },
      "execution_count": 39,
      "outputs": [
        {
          "output_type": "execute_result",
          "data": {
            "text/plain": [
              "seller_id            0\n",
              "zip_code_prefix      0\n",
              "seller_city          0\n",
              "seller_state         0\n",
              "geolocation_lat      0\n",
              "geolocation_lng      0\n",
              "geolocation_city     0\n",
              "geolocation_state    0\n",
              "dtype: int64"
            ],
            "text/html": [
              "<div>\n",
              "<style scoped>\n",
              "    .dataframe tbody tr th:only-of-type {\n",
              "        vertical-align: middle;\n",
              "    }\n",
              "\n",
              "    .dataframe tbody tr th {\n",
              "        vertical-align: top;\n",
              "    }\n",
              "\n",
              "    .dataframe thead th {\n",
              "        text-align: right;\n",
              "    }\n",
              "</style>\n",
              "<table border=\"1\" class=\"dataframe\">\n",
              "  <thead>\n",
              "    <tr style=\"text-align: right;\">\n",
              "      <th></th>\n",
              "      <th>0</th>\n",
              "    </tr>\n",
              "  </thead>\n",
              "  <tbody>\n",
              "    <tr>\n",
              "      <th>seller_id</th>\n",
              "      <td>0</td>\n",
              "    </tr>\n",
              "    <tr>\n",
              "      <th>zip_code_prefix</th>\n",
              "      <td>0</td>\n",
              "    </tr>\n",
              "    <tr>\n",
              "      <th>seller_city</th>\n",
              "      <td>0</td>\n",
              "    </tr>\n",
              "    <tr>\n",
              "      <th>seller_state</th>\n",
              "      <td>0</td>\n",
              "    </tr>\n",
              "    <tr>\n",
              "      <th>geolocation_lat</th>\n",
              "      <td>0</td>\n",
              "    </tr>\n",
              "    <tr>\n",
              "      <th>geolocation_lng</th>\n",
              "      <td>0</td>\n",
              "    </tr>\n",
              "    <tr>\n",
              "      <th>geolocation_city</th>\n",
              "      <td>0</td>\n",
              "    </tr>\n",
              "    <tr>\n",
              "      <th>geolocation_state</th>\n",
              "      <td>0</td>\n",
              "    </tr>\n",
              "  </tbody>\n",
              "</table>\n",
              "</div><br><label><b>dtype:</b> int64</label>"
            ]
          },
          "metadata": {},
          "execution_count": 39
        }
      ]
    },
    {
      "cell_type": "code",
      "source": [
        "drop_duplicates = sellers_df.drop_duplicates('seller_id', keep='first')\n",
        "sellers_df = pd.concat([\n",
        "    drop_duplicates, sellers_df[~sellers_df.duplicated('seller_id', keep=False)]\n",
        "])\n",
        "sellers_df = sellers_df.reset_index(drop=True)\n",
        "sellers_df = sellers_df.drop_duplicates(subset='seller_id', keep='first').reset_index(drop=True)"
      ],
      "metadata": {
        "id": "_ve42GaCFV5u"
      },
      "execution_count": 40,
      "outputs": []
    },
    {
      "cell_type": "markdown",
      "source": [
        "Gabungkan semua Dataset"
      ],
      "metadata": {
        "id": "HogfwggtFZ5z"
      }
    },
    {
      "cell_type": "code",
      "source": [
        "orders_products_customers_df = pd.merge(\n",
        "    left=orders_products_df,\n",
        "    right=customers_df,\n",
        "    how='left',\n",
        "    left_on='customer_id',\n",
        "    right_on='customer_id'\n",
        ")\n",
        "\n",
        "all_df = pd.merge(\n",
        "    left=orders_products_customers_df,\n",
        "    right=sellers_df,\n",
        "    how='left',\n",
        "    left_on='seller_id',\n",
        "    right_on='seller_id'\n",
        ")\n",
        "\n",
        "all_df.info()"
      ],
      "metadata": {
        "colab": {
          "base_uri": "https://localhost:8080/",
          "height": 0
        },
        "id": "4BzmSALk_mSo",
        "outputId": "edd206ff-e005-49b7-ada4-1c35a3d5049a"
      },
      "execution_count": 41,
      "outputs": [
        {
          "output_type": "stream",
          "name": "stdout",
          "text": [
            "<class 'pandas.core.frame.DataFrame'>\n",
            "RangeIndex: 96485 entries, 0 to 96484\n",
            "Data columns (total 48 columns):\n",
            " #   Column                         Non-Null Count  Dtype         \n",
            "---  ------                         --------------  -----         \n",
            " 0   order_id                       96485 non-null  object        \n",
            " 1   customer_id                    96485 non-null  object        \n",
            " 2   order_status                   96485 non-null  object        \n",
            " 3   order_purchase_timestamp       96485 non-null  datetime64[ns]\n",
            " 4   order_approved_at              96485 non-null  datetime64[ns]\n",
            " 5   order_delivered_carrier_date   96485 non-null  datetime64[ns]\n",
            " 6   order_delivered_customer_date  96485 non-null  datetime64[ns]\n",
            " 7   order_estimated_delivery_date  96485 non-null  datetime64[ns]\n",
            " 8   qty_order                      96485 non-null  float64       \n",
            " 9   product_id                     96485 non-null  object        \n",
            " 10  seller_id                      96485 non-null  object        \n",
            " 11  shipping_limit_date            96485 non-null  datetime64[ns]\n",
            " 12  price                          96485 non-null  float64       \n",
            " 13  freight_value                  96485 non-null  float64       \n",
            " 14  payment_sequential             96485 non-null  float64       \n",
            " 15  payment_type                   96485 non-null  object        \n",
            " 16  payment_installments           96485 non-null  float64       \n",
            " 17  payment_value                  96485 non-null  float64       \n",
            " 18  review_id                      96485 non-null  object        \n",
            " 19  review_score                   96485 non-null  float64       \n",
            " 20  review_comment_title           96485 non-null  object        \n",
            " 21  review_comment_message         96485 non-null  object        \n",
            " 22  review_creation_date           96485 non-null  datetime64[ns]\n",
            " 23  review_answer_timestamp        96485 non-null  datetime64[ns]\n",
            " 24  product_category_name          96485 non-null  object        \n",
            " 25  product_name_lenght            96485 non-null  float64       \n",
            " 26  product_description_lenght     96485 non-null  float64       \n",
            " 27  product_photos_qty             96485 non-null  float64       \n",
            " 28  product_weight_g               96485 non-null  float64       \n",
            " 29  product_length_cm              96485 non-null  float64       \n",
            " 30  product_height_cm              96485 non-null  float64       \n",
            " 31  product_width_cm               96485 non-null  float64       \n",
            " 32  product_category_name_english  96485 non-null  object        \n",
            " 33  customer_unique_id             96218 non-null  object        \n",
            " 34  zip_code_prefix_x              96218 non-null  float64       \n",
            " 35  customer_city                  96218 non-null  object        \n",
            " 36  customer_state                 96218 non-null  object        \n",
            " 37  geolocation_lat_x              96218 non-null  float64       \n",
            " 38  geolocation_lng_x              96218 non-null  float64       \n",
            " 39  geolocation_city_x             96218 non-null  object        \n",
            " 40  geolocation_state_x            96218 non-null  object        \n",
            " 41  zip_code_prefix_y              96269 non-null  float64       \n",
            " 42  seller_city                    96269 non-null  object        \n",
            " 43  seller_state                   96269 non-null  object        \n",
            " 44  geolocation_lat_y              96269 non-null  float64       \n",
            " 45  geolocation_lng_y              96269 non-null  float64       \n",
            " 46  geolocation_city_y             96269 non-null  object        \n",
            " 47  geolocation_state_y            96269 non-null  object        \n",
            "dtypes: datetime64[ns](8), float64(20), object(20)\n",
            "memory usage: 35.3+ MB\n"
          ]
        }
      ]
    },
    {
      "cell_type": "markdown",
      "source": [
        "Gunakan Metode pearson untuk menganalisa hubungan Linear antara harga produk, skor ulasan, biaya pengiriman dan lama waktu pengiriman"
      ],
      "metadata": {
        "id": "WMqmL6R5BYpc"
      }
    },
    {
      "cell_type": "code",
      "source": [
        "orders_products_df.info()"
      ],
      "metadata": {
        "colab": {
          "base_uri": "https://localhost:8080/",
          "height": 0
        },
        "id": "BDY91i0XIQ_c",
        "outputId": "9716925b-66fe-43b7-f638-16ee7788752b"
      },
      "execution_count": 42,
      "outputs": [
        {
          "output_type": "stream",
          "name": "stdout",
          "text": [
            "<class 'pandas.core.frame.DataFrame'>\n",
            "Index: 96485 entries, 0 to 97915\n",
            "Data columns (total 33 columns):\n",
            " #   Column                         Non-Null Count  Dtype         \n",
            "---  ------                         --------------  -----         \n",
            " 0   order_id                       96485 non-null  object        \n",
            " 1   customer_id                    96485 non-null  object        \n",
            " 2   order_status                   96485 non-null  object        \n",
            " 3   order_purchase_timestamp       96485 non-null  datetime64[ns]\n",
            " 4   order_approved_at              96485 non-null  datetime64[ns]\n",
            " 5   order_delivered_carrier_date   96485 non-null  datetime64[ns]\n",
            " 6   order_delivered_customer_date  96485 non-null  datetime64[ns]\n",
            " 7   order_estimated_delivery_date  96485 non-null  datetime64[ns]\n",
            " 8   qty_order                      96485 non-null  float64       \n",
            " 9   product_id                     96485 non-null  object        \n",
            " 10  seller_id                      96485 non-null  object        \n",
            " 11  shipping_limit_date            96485 non-null  datetime64[ns]\n",
            " 12  price                          96485 non-null  float64       \n",
            " 13  freight_value                  96485 non-null  float64       \n",
            " 14  payment_sequential             96485 non-null  float64       \n",
            " 15  payment_type                   96485 non-null  object        \n",
            " 16  payment_installments           96485 non-null  float64       \n",
            " 17  payment_value                  96485 non-null  float64       \n",
            " 18  review_id                      96485 non-null  object        \n",
            " 19  review_score                   96485 non-null  float64       \n",
            " 20  review_comment_title           96485 non-null  object        \n",
            " 21  review_comment_message         96485 non-null  object        \n",
            " 22  review_creation_date           96485 non-null  datetime64[ns]\n",
            " 23  review_answer_timestamp        96485 non-null  datetime64[ns]\n",
            " 24  product_category_name          96485 non-null  object        \n",
            " 25  product_name_lenght            96485 non-null  float64       \n",
            " 26  product_description_lenght     96485 non-null  float64       \n",
            " 27  product_photos_qty             96485 non-null  float64       \n",
            " 28  product_weight_g               96485 non-null  float64       \n",
            " 29  product_length_cm              96485 non-null  float64       \n",
            " 30  product_height_cm              96485 non-null  float64       \n",
            " 31  product_width_cm               96485 non-null  float64       \n",
            " 32  product_category_name_english  96485 non-null  object        \n",
            "dtypes: datetime64[ns](8), float64(14), object(11)\n",
            "memory usage: 25.0+ MB\n"
          ]
        }
      ]
    },
    {
      "cell_type": "code",
      "source": [
        "orders_products_df.loc[:, 'month_year'] = orders_products_df['order_purchase_timestamp'].dt.strftime('%Y-%m')\n",
        "monthly_salaries = orders_products_df.groupby('month_year')['payment_value'].sum().reset_index()\n",
        "monthly_salaries.sort_values(by='payment_value', ascending=False)"
      ],
      "metadata": {
        "id": "EuFZky0BG9UK",
        "colab": {
          "base_uri": "https://localhost:8080/",
          "height": 802
        },
        "outputId": "b980ae21-5fcb-45f7-ed31-562c3ef9a45f"
      },
      "execution_count": 43,
      "outputs": [
        {
          "output_type": "execute_result",
          "data": {
            "text/plain": [
              "   month_year  payment_value\n",
              "13    2017-11     1135240.24\n",
              "18    2018-04     1127262.52\n",
              "19    2018-05     1122249.76\n",
              "17    2018-03     1105033.18\n",
              "15    2018-01     1054266.24\n",
              "21    2018-07     1024329.64\n",
              "20    2018-06      995199.17\n",
              "22    2018-08      979764.09\n",
              "16    2018-02      951614.96\n",
              "14    2017-12      820842.51\n",
              "12    2017-10      727006.85\n",
              "11    2017-09      694406.24\n",
              "10    2017-08      640604.93\n",
              "9     2017-07      562972.01\n",
              "7     2017-05      554344.93\n",
              "8     2017-06      485412.84\n",
              "5     2017-03      412257.64\n",
              "6     2017-04      387401.64\n",
              "4     2017-02      269922.14\n",
              "3     2017-01      129482.03\n",
              "1     2016-10       55049.91\n",
              "0     2016-09         211.29\n",
              "23    2018-09         166.46\n",
              "2     2016-12          19.62"
            ],
            "text/html": [
              "\n",
              "  <div id=\"df-2078f96f-665c-42f9-95d7-85f248489cbe\" class=\"colab-df-container\">\n",
              "    <div>\n",
              "<style scoped>\n",
              "    .dataframe tbody tr th:only-of-type {\n",
              "        vertical-align: middle;\n",
              "    }\n",
              "\n",
              "    .dataframe tbody tr th {\n",
              "        vertical-align: top;\n",
              "    }\n",
              "\n",
              "    .dataframe thead th {\n",
              "        text-align: right;\n",
              "    }\n",
              "</style>\n",
              "<table border=\"1\" class=\"dataframe\">\n",
              "  <thead>\n",
              "    <tr style=\"text-align: right;\">\n",
              "      <th></th>\n",
              "      <th>month_year</th>\n",
              "      <th>payment_value</th>\n",
              "    </tr>\n",
              "  </thead>\n",
              "  <tbody>\n",
              "    <tr>\n",
              "      <th>13</th>\n",
              "      <td>2017-11</td>\n",
              "      <td>1135240.24</td>\n",
              "    </tr>\n",
              "    <tr>\n",
              "      <th>18</th>\n",
              "      <td>2018-04</td>\n",
              "      <td>1127262.52</td>\n",
              "    </tr>\n",
              "    <tr>\n",
              "      <th>19</th>\n",
              "      <td>2018-05</td>\n",
              "      <td>1122249.76</td>\n",
              "    </tr>\n",
              "    <tr>\n",
              "      <th>17</th>\n",
              "      <td>2018-03</td>\n",
              "      <td>1105033.18</td>\n",
              "    </tr>\n",
              "    <tr>\n",
              "      <th>15</th>\n",
              "      <td>2018-01</td>\n",
              "      <td>1054266.24</td>\n",
              "    </tr>\n",
              "    <tr>\n",
              "      <th>21</th>\n",
              "      <td>2018-07</td>\n",
              "      <td>1024329.64</td>\n",
              "    </tr>\n",
              "    <tr>\n",
              "      <th>20</th>\n",
              "      <td>2018-06</td>\n",
              "      <td>995199.17</td>\n",
              "    </tr>\n",
              "    <tr>\n",
              "      <th>22</th>\n",
              "      <td>2018-08</td>\n",
              "      <td>979764.09</td>\n",
              "    </tr>\n",
              "    <tr>\n",
              "      <th>16</th>\n",
              "      <td>2018-02</td>\n",
              "      <td>951614.96</td>\n",
              "    </tr>\n",
              "    <tr>\n",
              "      <th>14</th>\n",
              "      <td>2017-12</td>\n",
              "      <td>820842.51</td>\n",
              "    </tr>\n",
              "    <tr>\n",
              "      <th>12</th>\n",
              "      <td>2017-10</td>\n",
              "      <td>727006.85</td>\n",
              "    </tr>\n",
              "    <tr>\n",
              "      <th>11</th>\n",
              "      <td>2017-09</td>\n",
              "      <td>694406.24</td>\n",
              "    </tr>\n",
              "    <tr>\n",
              "      <th>10</th>\n",
              "      <td>2017-08</td>\n",
              "      <td>640604.93</td>\n",
              "    </tr>\n",
              "    <tr>\n",
              "      <th>9</th>\n",
              "      <td>2017-07</td>\n",
              "      <td>562972.01</td>\n",
              "    </tr>\n",
              "    <tr>\n",
              "      <th>7</th>\n",
              "      <td>2017-05</td>\n",
              "      <td>554344.93</td>\n",
              "    </tr>\n",
              "    <tr>\n",
              "      <th>8</th>\n",
              "      <td>2017-06</td>\n",
              "      <td>485412.84</td>\n",
              "    </tr>\n",
              "    <tr>\n",
              "      <th>5</th>\n",
              "      <td>2017-03</td>\n",
              "      <td>412257.64</td>\n",
              "    </tr>\n",
              "    <tr>\n",
              "      <th>6</th>\n",
              "      <td>2017-04</td>\n",
              "      <td>387401.64</td>\n",
              "    </tr>\n",
              "    <tr>\n",
              "      <th>4</th>\n",
              "      <td>2017-02</td>\n",
              "      <td>269922.14</td>\n",
              "    </tr>\n",
              "    <tr>\n",
              "      <th>3</th>\n",
              "      <td>2017-01</td>\n",
              "      <td>129482.03</td>\n",
              "    </tr>\n",
              "    <tr>\n",
              "      <th>1</th>\n",
              "      <td>2016-10</td>\n",
              "      <td>55049.91</td>\n",
              "    </tr>\n",
              "    <tr>\n",
              "      <th>0</th>\n",
              "      <td>2016-09</td>\n",
              "      <td>211.29</td>\n",
              "    </tr>\n",
              "    <tr>\n",
              "      <th>23</th>\n",
              "      <td>2018-09</td>\n",
              "      <td>166.46</td>\n",
              "    </tr>\n",
              "    <tr>\n",
              "      <th>2</th>\n",
              "      <td>2016-12</td>\n",
              "      <td>19.62</td>\n",
              "    </tr>\n",
              "  </tbody>\n",
              "</table>\n",
              "</div>\n",
              "    <div class=\"colab-df-buttons\">\n",
              "\n",
              "  <div class=\"colab-df-container\">\n",
              "    <button class=\"colab-df-convert\" onclick=\"convertToInteractive('df-2078f96f-665c-42f9-95d7-85f248489cbe')\"\n",
              "            title=\"Convert this dataframe to an interactive table.\"\n",
              "            style=\"display:none;\">\n",
              "\n",
              "  <svg xmlns=\"http://www.w3.org/2000/svg\" height=\"24px\" viewBox=\"0 -960 960 960\">\n",
              "    <path d=\"M120-120v-720h720v720H120Zm60-500h600v-160H180v160Zm220 220h160v-160H400v160Zm0 220h160v-160H400v160ZM180-400h160v-160H180v160Zm440 0h160v-160H620v160ZM180-180h160v-160H180v160Zm440 0h160v-160H620v160Z\"/>\n",
              "  </svg>\n",
              "    </button>\n",
              "\n",
              "  <style>\n",
              "    .colab-df-container {\n",
              "      display:flex;\n",
              "      gap: 12px;\n",
              "    }\n",
              "\n",
              "    .colab-df-convert {\n",
              "      background-color: #E8F0FE;\n",
              "      border: none;\n",
              "      border-radius: 50%;\n",
              "      cursor: pointer;\n",
              "      display: none;\n",
              "      fill: #1967D2;\n",
              "      height: 32px;\n",
              "      padding: 0 0 0 0;\n",
              "      width: 32px;\n",
              "    }\n",
              "\n",
              "    .colab-df-convert:hover {\n",
              "      background-color: #E2EBFA;\n",
              "      box-shadow: 0px 1px 2px rgba(60, 64, 67, 0.3), 0px 1px 3px 1px rgba(60, 64, 67, 0.15);\n",
              "      fill: #174EA6;\n",
              "    }\n",
              "\n",
              "    .colab-df-buttons div {\n",
              "      margin-bottom: 4px;\n",
              "    }\n",
              "\n",
              "    [theme=dark] .colab-df-convert {\n",
              "      background-color: #3B4455;\n",
              "      fill: #D2E3FC;\n",
              "    }\n",
              "\n",
              "    [theme=dark] .colab-df-convert:hover {\n",
              "      background-color: #434B5C;\n",
              "      box-shadow: 0px 1px 3px 1px rgba(0, 0, 0, 0.15);\n",
              "      filter: drop-shadow(0px 1px 2px rgba(0, 0, 0, 0.3));\n",
              "      fill: #FFFFFF;\n",
              "    }\n",
              "  </style>\n",
              "\n",
              "    <script>\n",
              "      const buttonEl =\n",
              "        document.querySelector('#df-2078f96f-665c-42f9-95d7-85f248489cbe button.colab-df-convert');\n",
              "      buttonEl.style.display =\n",
              "        google.colab.kernel.accessAllowed ? 'block' : 'none';\n",
              "\n",
              "      async function convertToInteractive(key) {\n",
              "        const element = document.querySelector('#df-2078f96f-665c-42f9-95d7-85f248489cbe');\n",
              "        const dataTable =\n",
              "          await google.colab.kernel.invokeFunction('convertToInteractive',\n",
              "                                                    [key], {});\n",
              "        if (!dataTable) return;\n",
              "\n",
              "        const docLinkHtml = 'Like what you see? Visit the ' +\n",
              "          '<a target=\"_blank\" href=https://colab.research.google.com/notebooks/data_table.ipynb>data table notebook</a>'\n",
              "          + ' to learn more about interactive tables.';\n",
              "        element.innerHTML = '';\n",
              "        dataTable['output_type'] = 'display_data';\n",
              "        await google.colab.output.renderOutput(dataTable, element);\n",
              "        const docLink = document.createElement('div');\n",
              "        docLink.innerHTML = docLinkHtml;\n",
              "        element.appendChild(docLink);\n",
              "      }\n",
              "    </script>\n",
              "  </div>\n",
              "\n",
              "\n",
              "<div id=\"df-af158726-ad22-4b24-b1b4-683672c7fd42\">\n",
              "  <button class=\"colab-df-quickchart\" onclick=\"quickchart('df-af158726-ad22-4b24-b1b4-683672c7fd42')\"\n",
              "            title=\"Suggest charts\"\n",
              "            style=\"display:none;\">\n",
              "\n",
              "<svg xmlns=\"http://www.w3.org/2000/svg\" height=\"24px\"viewBox=\"0 0 24 24\"\n",
              "     width=\"24px\">\n",
              "    <g>\n",
              "        <path d=\"M19 3H5c-1.1 0-2 .9-2 2v14c0 1.1.9 2 2 2h14c1.1 0 2-.9 2-2V5c0-1.1-.9-2-2-2zM9 17H7v-7h2v7zm4 0h-2V7h2v10zm4 0h-2v-4h2v4z\"/>\n",
              "    </g>\n",
              "</svg>\n",
              "  </button>\n",
              "\n",
              "<style>\n",
              "  .colab-df-quickchart {\n",
              "      --bg-color: #E8F0FE;\n",
              "      --fill-color: #1967D2;\n",
              "      --hover-bg-color: #E2EBFA;\n",
              "      --hover-fill-color: #174EA6;\n",
              "      --disabled-fill-color: #AAA;\n",
              "      --disabled-bg-color: #DDD;\n",
              "  }\n",
              "\n",
              "  [theme=dark] .colab-df-quickchart {\n",
              "      --bg-color: #3B4455;\n",
              "      --fill-color: #D2E3FC;\n",
              "      --hover-bg-color: #434B5C;\n",
              "      --hover-fill-color: #FFFFFF;\n",
              "      --disabled-bg-color: #3B4455;\n",
              "      --disabled-fill-color: #666;\n",
              "  }\n",
              "\n",
              "  .colab-df-quickchart {\n",
              "    background-color: var(--bg-color);\n",
              "    border: none;\n",
              "    border-radius: 50%;\n",
              "    cursor: pointer;\n",
              "    display: none;\n",
              "    fill: var(--fill-color);\n",
              "    height: 32px;\n",
              "    padding: 0;\n",
              "    width: 32px;\n",
              "  }\n",
              "\n",
              "  .colab-df-quickchart:hover {\n",
              "    background-color: var(--hover-bg-color);\n",
              "    box-shadow: 0 1px 2px rgba(60, 64, 67, 0.3), 0 1px 3px 1px rgba(60, 64, 67, 0.15);\n",
              "    fill: var(--button-hover-fill-color);\n",
              "  }\n",
              "\n",
              "  .colab-df-quickchart-complete:disabled,\n",
              "  .colab-df-quickchart-complete:disabled:hover {\n",
              "    background-color: var(--disabled-bg-color);\n",
              "    fill: var(--disabled-fill-color);\n",
              "    box-shadow: none;\n",
              "  }\n",
              "\n",
              "  .colab-df-spinner {\n",
              "    border: 2px solid var(--fill-color);\n",
              "    border-color: transparent;\n",
              "    border-bottom-color: var(--fill-color);\n",
              "    animation:\n",
              "      spin 1s steps(1) infinite;\n",
              "  }\n",
              "\n",
              "  @keyframes spin {\n",
              "    0% {\n",
              "      border-color: transparent;\n",
              "      border-bottom-color: var(--fill-color);\n",
              "      border-left-color: var(--fill-color);\n",
              "    }\n",
              "    20% {\n",
              "      border-color: transparent;\n",
              "      border-left-color: var(--fill-color);\n",
              "      border-top-color: var(--fill-color);\n",
              "    }\n",
              "    30% {\n",
              "      border-color: transparent;\n",
              "      border-left-color: var(--fill-color);\n",
              "      border-top-color: var(--fill-color);\n",
              "      border-right-color: var(--fill-color);\n",
              "    }\n",
              "    40% {\n",
              "      border-color: transparent;\n",
              "      border-right-color: var(--fill-color);\n",
              "      border-top-color: var(--fill-color);\n",
              "    }\n",
              "    60% {\n",
              "      border-color: transparent;\n",
              "      border-right-color: var(--fill-color);\n",
              "    }\n",
              "    80% {\n",
              "      border-color: transparent;\n",
              "      border-right-color: var(--fill-color);\n",
              "      border-bottom-color: var(--fill-color);\n",
              "    }\n",
              "    90% {\n",
              "      border-color: transparent;\n",
              "      border-bottom-color: var(--fill-color);\n",
              "    }\n",
              "  }\n",
              "</style>\n",
              "\n",
              "  <script>\n",
              "    async function quickchart(key) {\n",
              "      const quickchartButtonEl =\n",
              "        document.querySelector('#' + key + ' button');\n",
              "      quickchartButtonEl.disabled = true;  // To prevent multiple clicks.\n",
              "      quickchartButtonEl.classList.add('colab-df-spinner');\n",
              "      try {\n",
              "        const charts = await google.colab.kernel.invokeFunction(\n",
              "            'suggestCharts', [key], {});\n",
              "      } catch (error) {\n",
              "        console.error('Error during call to suggestCharts:', error);\n",
              "      }\n",
              "      quickchartButtonEl.classList.remove('colab-df-spinner');\n",
              "      quickchartButtonEl.classList.add('colab-df-quickchart-complete');\n",
              "    }\n",
              "    (() => {\n",
              "      let quickchartButtonEl =\n",
              "        document.querySelector('#df-af158726-ad22-4b24-b1b4-683672c7fd42 button');\n",
              "      quickchartButtonEl.style.display =\n",
              "        google.colab.kernel.accessAllowed ? 'block' : 'none';\n",
              "    })();\n",
              "  </script>\n",
              "</div>\n",
              "\n",
              "    </div>\n",
              "  </div>\n"
            ],
            "application/vnd.google.colaboratory.intrinsic+json": {
              "type": "dataframe",
              "summary": "{\n  \"name\": \"monthly_salaries\",\n  \"rows\": 24,\n  \"fields\": [\n    {\n      \"column\": \"month_year\",\n      \"properties\": {\n        \"dtype\": \"object\",\n        \"num_unique_values\": 24,\n        \"samples\": [\n          \"2018-02\",\n          \"2017-03\",\n          \"2017-11\"\n        ],\n        \"semantic_type\": \"\",\n        \"description\": \"\"\n      }\n    },\n    {\n      \"column\": \"payment_value\",\n      \"properties\": {\n        \"dtype\": \"number\",\n        \"std\": 403948.5752958269,\n        \"min\": 19.62,\n        \"max\": 1135240.24,\n        \"num_unique_values\": 24,\n        \"samples\": [\n          951614.96,\n          412257.64,\n          1135240.24\n        ],\n        \"semantic_type\": \"\",\n        \"description\": \"\"\n      }\n    }\n  ]\n}"
            }
          },
          "metadata": {},
          "execution_count": 43
        }
      ]
    },
    {
      "cell_type": "code",
      "source": [
        "corr_matrix = orders_products_df[['price', 'freight_value', 'review_score']].corr()"
      ],
      "metadata": {
        "id": "WjKGdcjj_1NB"
      },
      "execution_count": 68,
      "outputs": []
    },
    {
      "cell_type": "code",
      "source": [
        "print(\"Correlation Matrix:\")\n",
        "print(corr_matrix)"
      ],
      "metadata": {
        "colab": {
          "base_uri": "https://localhost:8080/",
          "height": 0
        },
        "id": "xUheckn_Tml0",
        "outputId": "4eebd0e4-62bf-47c4-fb17-96548e87246d"
      },
      "execution_count": 69,
      "outputs": [
        {
          "output_type": "stream",
          "name": "stdout",
          "text": [
            "Correlation Matrix:\n",
            "                  price  freight_value  review_score\n",
            "price          1.000000       0.422873     -0.012515\n",
            "freight_value  0.422873       1.000000     -0.038809\n",
            "review_score  -0.012515      -0.038809      1.000000\n"
          ]
        }
      ]
    },
    {
      "cell_type": "code",
      "source": [
        "price_bins = [0, 50, 100, 200, 500, 1000, float('inf')]\n",
        "price_labels = ['<50', '50-100', '100-200', '200-500', '500-1000', '>1000']\n",
        "orders_products_df['price_range'] = pd.cut(orders_products_df['price'], bins=price_bins, labels=price_labels)\n",
        "\n",
        "price_review = orders_products_df.groupby('price_range')['review_score'].agg(['mean', 'count']).reset_index()\n",
        "price_review = price_review[price_review['count'] >= 10]  # Filter out price ranges with insufficient data\n",
        "\n",
        "# Calculate average review score by shipping cost range\n",
        "freight_bins = [0, 20, 50, 100, 200, float('inf')]\n",
        "freight_labels = ['<20', '20-50', '50-100', '100-200', '>200']\n",
        "orders_products_df['freight_range'] = pd.cut(orders_products_df['freight_value'], bins=freight_bins, labels=freight_labels)\n",
        "\n",
        "freight_review = orders_products_df.groupby('freight_range')['review_score'].agg(['mean', 'count']).reset_index()\n",
        "freight_review = freight_review[freight_review['count'] >= 10]  # Filter out freight ranges with insufficient data"
      ],
      "metadata": {
        "colab": {
          "base_uri": "https://localhost:8080/",
          "height": 0
        },
        "id": "q67CdLt9Tpvz",
        "outputId": "a0d4d2b2-cf68-4bbc-a670-36c9eb1aa685"
      },
      "execution_count": 70,
      "outputs": [
        {
          "output_type": "stream",
          "name": "stderr",
          "text": [
            "<ipython-input-70-2c05fb2d8068>:5: FutureWarning: The default of observed=False is deprecated and will be changed to True in a future version of pandas. Pass observed=False to retain current behavior or observed=True to adopt the future default and silence this warning.\n",
            "  price_review = orders_products_df.groupby('price_range')['review_score'].agg(['mean', 'count']).reset_index()\n",
            "<ipython-input-70-2c05fb2d8068>:13: FutureWarning: The default of observed=False is deprecated and will be changed to True in a future version of pandas. Pass observed=False to retain current behavior or observed=True to adopt the future default and silence this warning.\n",
            "  freight_review = orders_products_df.groupby('freight_range')['review_score'].agg(['mean', 'count']).reset_index()\n"
          ]
        }
      ]
    },
    {
      "cell_type": "code",
      "source": [
        "sns.heatmap(corr_matrix, annot=True, cmap='coolwarm', fmt=\".2f\")\n",
        "plt.title('Korelasi Antara Harga, Biaya Pengiriman, dan Skor Ulasan')\n",
        "plt.show()"
      ],
      "metadata": {
        "id": "Bqai-8dhAF41",
        "colab": {
          "base_uri": "https://localhost:8080/",
          "height": 445
        },
        "outputId": "4c19ff18-5d85-4b11-be5d-ce71bc750874"
      },
      "execution_count": 72,
      "outputs": [
        {
          "output_type": "display_data",
          "data": {
            "text/plain": [
              "<Figure size 640x480 with 2 Axes>"
            ],
            "image/png": "[encoded data removed]"
          },
          "metadata": {}
        }
      ]
    },
    {
      "cell_type": "code",
      "source": [
        "# Rata-rata skor ulasan per kategori produk\n",
        "category_scores = orders_products_df.groupby('product_category_name_english')['review_score'].mean().sort_values(ascending=False)\n",
        "print(category_scores)"
      ],
      "metadata": {
        "id": "qVqMU3YwAIrp",
        "colab": {
          "base_uri": "https://localhost:8080/",
          "height": 0
        },
        "outputId": "6ee83ea5-ff58-41ed-fdf4-d4287cf822d8"
      },
      "execution_count": 73,
      "outputs": [
        {
          "output_type": "stream",
          "name": "stdout",
          "text": [
            "product_category_name_english\n",
            "cds_dvds_musicals          4.666667\n",
            "flowers                    4.538462\n",
            "books_general_interest     4.462451\n",
            "costruction_tools_tools    4.425532\n",
            "books_technical            4.421260\n",
            "                             ...   \n",
            "diapers_and_hygiene        3.740741\n",
            "fashio_female_clothing     3.736842\n",
            "fashion_male_clothing      3.727273\n",
            "office_furniture           3.626889\n",
            "security_and_services      2.500000\n",
            "Name: review_score, Length: 71, dtype: float64\n"
          ]
        }
      ]
    },
    {
      "cell_type": "code",
      "source": [
        "# Rata-rata skor ulasan per metode pembayaran\n",
        "payment_scores = orders_products_df.groupby('payment_type')['review_score'].mean()\n",
        "print(payment_scores)"
      ],
      "metadata": {
        "id": "YmfJDCU8AK8x",
        "colab": {
          "base_uri": "https://localhost:8080/",
          "height": 0
        },
        "outputId": "ea0dec9e-43cb-43ca-9a56-069980c62551"
      },
      "execution_count": 74,
      "outputs": [
        {
          "output_type": "stream",
          "name": "stdout",
          "text": [
            "payment_type\n",
            "boleto         4.110069\n",
            "credit_card    4.106600\n",
            "debit_card     4.183288\n",
            "voucher        4.080326\n",
            "Name: review_score, dtype: float64\n"
          ]
        }
      ]
    },
    {
      "cell_type": "code",
      "source": [
        "# Hitung waktu pengiriman (dalam hari)\n",
        "orders_products_df['delivery_days'] = (\n",
        "    orders_products_df['order_delivered_customer_date'] -\n",
        "    orders_products_df['order_purchase_timestamp']\n",
        ").dt.days"
      ],
      "metadata": {
        "id": "0kDNgJT4ANCL"
      },
      "execution_count": 75,
      "outputs": []
    },
    {
      "cell_type": "code",
      "source": [
        "# Korelasi waktu pengiriman dengan skor ulasan\n",
        "print(orders_products_df[['delivery_days', 'review_score']].corr())"
      ],
      "metadata": {
        "colab": {
          "base_uri": "https://localhost:8080/",
          "height": 0
        },
        "id": "4XDBfV7uJUkI",
        "outputId": "0ab9d667-4f94-4d35-b564-007b89ad7648"
      },
      "execution_count": 76,
      "outputs": [
        {
          "output_type": "stream",
          "name": "stdout",
          "text": [
            "               delivery_days  review_score\n",
            "delivery_days       1.000000     -0.275501\n",
            "review_score       -0.275501      1.000000\n"
          ]
        }
      ]
    },
    {
      "cell_type": "code",
      "source": [
        "orders_products_df['order_purchase_timestamp'] = pd.to_datetime(orders_products_df['order_purchase_timestamp'])"
      ],
      "metadata": {
        "id": "m4cmsvvaCzxI"
      },
      "execution_count": 84,
      "outputs": []
    },
    {
      "cell_type": "code",
      "source": [
        "orders_products_df['year'] = orders_products_df['order_purchase_timestamp'].dt.year\n",
        "orders_products_df['month'] = orders_products_df['order_purchase_timestamp'].dt.month\n"
      ],
      "metadata": {
        "id": "65t5VlllNZFi"
      },
      "execution_count": 85,
      "outputs": []
    },
    {
      "cell_type": "code",
      "source": [
        "orders_products_df.info()"
      ],
      "metadata": {
        "colab": {
          "base_uri": "https://localhost:8080/",
          "height": 0
        },
        "id": "uGm1sSLuNUx8",
        "outputId": "4734995c-3904-4990-e5fb-ee19321a71f9"
      },
      "execution_count": 86,
      "outputs": [
        {
          "output_type": "stream",
          "name": "stdout",
          "text": [
            "<class 'pandas.core.frame.DataFrame'>\n",
            "Index: 96485 entries, 0 to 97915\n",
            "Data columns (total 39 columns):\n",
            " #   Column                         Non-Null Count  Dtype         \n",
            "---  ------                         --------------  -----         \n",
            " 0   order_id                       96485 non-null  object        \n",
            " 1   customer_id                    96485 non-null  object        \n",
            " 2   order_status                   96485 non-null  object        \n",
            " 3   order_purchase_timestamp       96485 non-null  datetime64[ns]\n",
            " 4   order_approved_at              96485 non-null  datetime64[ns]\n",
            " 5   order_delivered_carrier_date   96485 non-null  datetime64[ns]\n",
            " 6   order_delivered_customer_date  96485 non-null  datetime64[ns]\n",
            " 7   order_estimated_delivery_date  96485 non-null  datetime64[ns]\n",
            " 8   qty_order                      96485 non-null  float64       \n",
            " 9   product_id                     96485 non-null  object        \n",
            " 10  seller_id                      96485 non-null  object        \n",
            " 11  shipping_limit_date            96485 non-null  datetime64[ns]\n",
            " 12  price                          96485 non-null  float64       \n",
            " 13  freight_value                  96485 non-null  float64       \n",
            " 14  payment_sequential             96485 non-null  float64       \n",
            " 15  payment_type                   96485 non-null  object        \n",
            " 16  payment_installments           96485 non-null  float64       \n",
            " 17  payment_value                  96485 non-null  float64       \n",
            " 18  review_id                      96485 non-null  object        \n",
            " 19  review_score                   96485 non-null  float64       \n",
            " 20  review_comment_title           96485 non-null  object        \n",
            " 21  review_comment_message         96485 non-null  object        \n",
            " 22  review_creation_date           96485 non-null  datetime64[ns]\n",
            " 23  review_answer_timestamp        96485 non-null  datetime64[ns]\n",
            " 24  product_category_name          96485 non-null  object        \n",
            " 25  product_name_lenght            96485 non-null  float64       \n",
            " 26  product_description_lenght     96485 non-null  float64       \n",
            " 27  product_photos_qty             96485 non-null  float64       \n",
            " 28  product_weight_g               96485 non-null  float64       \n",
            " 29  product_length_cm              96485 non-null  float64       \n",
            " 30  product_height_cm              96485 non-null  float64       \n",
            " 31  product_width_cm               96485 non-null  float64       \n",
            " 32  product_category_name_english  96485 non-null  object        \n",
            " 33  month_year                     96485 non-null  object        \n",
            " 34  delivery_days                  96485 non-null  int64         \n",
            " 35  year                           96485 non-null  int32         \n",
            " 36  month                          96485 non-null  int32         \n",
            " 37  price_range                    96485 non-null  category      \n",
            " 38  freight_range                  96150 non-null  category      \n",
            "dtypes: category(2), datetime64[ns](8), float64(14), int32(2), int64(1), object(12)\n",
            "memory usage: 27.4+ MB\n"
          ]
        }
      ]
    },
    {
      "cell_type": "code",
      "source": [
        "monthly_sales = orders_products_df.groupby(['year', 'month'])['price'].agg(['sum', 'count']).reset_index()\n",
        "monthly_sales.rename(columns={'sum': 'total_sales', 'count': 'number_of_orders'}, inplace=True)\n",
        "monthly_sales['date'] = pd.to_datetime(monthly_sales[['year', 'month']].assign(day=1))"
      ],
      "metadata": {
        "id": "aFBItMl-C3eS"
      },
      "execution_count": 94,
      "outputs": []
    },
    {
      "cell_type": "code",
      "source": [
        "print(monthly_sales)"
      ],
      "metadata": {
        "id": "TNJGr4gdDUSf",
        "colab": {
          "base_uri": "https://localhost:8080/",
          "height": 0
        },
        "outputId": "4c1b9409-0ce2-4834-9525-2e9206e16a12"
      },
      "execution_count": 88,
      "outputs": [
        {
          "output_type": "stream",
          "name": "stdout",
          "text": [
            "    year  month  total_sales  number_of_orders\n",
            "0   2016      9        92.40                 2\n",
            "1   2016     10     44734.23               301\n",
            "2   2016     12        10.90                 1\n",
            "3   2017      1    103279.70               767\n",
            "4   2017      2    219501.06              1670\n",
            "5   2017      3    335709.39              2568\n",
            "6   2017      4    322468.68              2310\n",
            "7   2017      5    448715.28              3541\n",
            "8   2017      6    398329.36              3136\n",
            "9   2017      7    445276.49              3882\n",
            "10  2017      8    514779.81              4196\n",
            "11  2017      9    550989.38              4147\n",
            "12  2017     10    577382.01              4473\n",
            "13  2017     11    887314.29              7279\n",
            "14  2017     12    664974.88              5433\n",
            "15  2018      1    838108.15              6974\n",
            "16  2018      2    752832.81              6529\n",
            "17  2018      3    875816.81              7003\n",
            "18  2018      4    898881.89              6807\n",
            "19  2018      5    883159.65              6781\n",
            "20  2018      6    786443.17              6112\n",
            "21  2018      7    802102.96              6180\n",
            "22  2018      8    783389.07              6392\n",
            "23  2018      9       145.00                 1\n"
          ]
        }
      ]
    },
    {
      "cell_type": "code",
      "source": [
        "monthly_sales['growth_rate'] = (monthly_sales['total_sales'].pct_change() * 100).round(2)\n",
        "print(monthly_sales[['month', 'year', 'total_sales', 'growth_rate']])"
      ],
      "metadata": {
        "colab": {
          "base_uri": "https://localhost:8080/",
          "height": 0
        },
        "id": "W12VWvmZNou8",
        "outputId": "46d19c67-96c7-4b90-ce1e-6018ebf61f89"
      },
      "execution_count": 89,
      "outputs": [
        {
          "output_type": "stream",
          "name": "stdout",
          "text": [
            "    month  year  total_sales  growth_rate\n",
            "0       9  2016        92.40          NaN\n",
            "1      10  2016     44734.23     48313.67\n",
            "2      12  2016        10.90       -99.98\n",
            "3       1  2017    103279.70    947420.18\n",
            "4       2  2017    219501.06       112.53\n",
            "5       3  2017    335709.39        52.94\n",
            "6       4  2017    322468.68        -3.94\n",
            "7       5  2017    448715.28        39.15\n",
            "8       6  2017    398329.36       -11.23\n",
            "9       7  2017    445276.49        11.79\n",
            "10      8  2017    514779.81        15.61\n",
            "11      9  2017    550989.38         7.03\n",
            "12     10  2017    577382.01         4.79\n",
            "13     11  2017    887314.29        53.68\n",
            "14     12  2017    664974.88       -25.06\n",
            "15      1  2018    838108.15        26.04\n",
            "16      2  2018    752832.81       -10.17\n",
            "17      3  2018    875816.81        16.34\n",
            "18      4  2018    898881.89         2.63\n",
            "19      5  2018    883159.65        -1.75\n",
            "20      6  2018    786443.17       -10.95\n",
            "21      7  2018    802102.96         1.99\n",
            "22      8  2018    783389.07        -2.33\n",
            "23      9  2018       145.00       -99.98\n"
          ]
        }
      ]
    },
    {
      "cell_type": "code",
      "source": [
        "peak_month = monthly_sales.loc[monthly_sales['total_sales'].idxmax()]\n",
        "lowest_month = monthly_sales.loc[monthly_sales['total_sales'].idxmin()]\n",
        "\n",
        "print(f\"Puncak Penjualan: {peak_month['month']}-{peak_month['year']} (Rp {peak_month['total_sales']:.2f})\")\n",
        "print(f\"Lembah Penjualan: {lowest_month['month']}-{lowest_month['year']} (Rp {lowest_month['total_sales']:.2f})\")"
      ],
      "metadata": {
        "colab": {
          "base_uri": "https://localhost:8080/",
          "height": 0
        },
        "id": "FrmgSok9Nqak",
        "outputId": "0ef32aa6-a94b-4a03-d204-106956a37407"
      },
      "execution_count": 125,
      "outputs": [
        {
          "output_type": "stream",
          "name": "stdout",
          "text": [
            "Puncak Penjualan: 4-2018 (Rp 898881.89)\n",
            "Lembah Penjualan: 12-2016 (Rp 10.90)\n"
          ]
        }
      ]
    },
    {
      "cell_type": "markdown",
      "source": [
        "**Insight:**\n",
        "- xxx\n",
        "- xxx"
      ],
      "metadata": {
        "id": "th_Lzl2Fkj9O"
      }
    },
    {
      "cell_type": "markdown",
      "metadata": {
        "id": "zsyZjqak8DC2"
      },
      "source": [
        "## Visualization & Explanatory Analysis"
      ]
    },
    {
      "cell_type": "markdown",
      "source": [
        "### Pertanyaan 1 : Metode pembayaran apa yang paling sering digunakan oleh pelanggan?"
      ],
      "metadata": {
        "id": "_86VxGyEcC7n"
      }
    },
    {
      "cell_type": "code",
      "source": [
        "orders_products_df.sample(5)"
      ],
      "metadata": {
        "id": "BBJUN8IOcCUL"
      },
      "execution_count": null,
      "outputs": []
    },
    {
      "cell_type": "code",
      "source": [
        "orders_products_df.payment_type.value_counts()"
      ],
      "metadata": {
        "colab": {
          "base_uri": "https://localhost:8080/",
          "height": 241
        },
        "id": "hA9lcjyAcVDW",
        "outputId": "af503ce7-84df-4912-dbf2-e4027a5fc9e5"
      },
      "execution_count": 149,
      "outputs": [
        {
          "output_type": "execute_result",
          "data": {
            "text/plain": [
              "payment_type\n",
              "credit_card    73227\n",
              "boleto         19197\n",
              "voucher         2577\n",
              "debit_card      1484\n",
              "Name: count, dtype: int64"
            ],
            "text/html": [
              "<div>\n",
              "<style scoped>\n",
              "    .dataframe tbody tr th:only-of-type {\n",
              "        vertical-align: middle;\n",
              "    }\n",
              "\n",
              "    .dataframe tbody tr th {\n",
              "        vertical-align: top;\n",
              "    }\n",
              "\n",
              "    .dataframe thead th {\n",
              "        text-align: right;\n",
              "    }\n",
              "</style>\n",
              "<table border=\"1\" class=\"dataframe\">\n",
              "  <thead>\n",
              "    <tr style=\"text-align: right;\">\n",
              "      <th></th>\n",
              "      <th>count</th>\n",
              "    </tr>\n",
              "    <tr>\n",
              "      <th>payment_type</th>\n",
              "      <th></th>\n",
              "    </tr>\n",
              "  </thead>\n",
              "  <tbody>\n",
              "    <tr>\n",
              "      <th>credit_card</th>\n",
              "      <td>73227</td>\n",
              "    </tr>\n",
              "    <tr>\n",
              "      <th>boleto</th>\n",
              "      <td>19197</td>\n",
              "    </tr>\n",
              "    <tr>\n",
              "      <th>voucher</th>\n",
              "      <td>2577</td>\n",
              "    </tr>\n",
              "    <tr>\n",
              "      <th>debit_card</th>\n",
              "      <td>1484</td>\n",
              "    </tr>\n",
              "  </tbody>\n",
              "</table>\n",
              "</div><br><label><b>dtype:</b> int64</label>"
            ]
          },
          "metadata": {},
          "execution_count": 149
        }
      ]
    },
    {
      "cell_type": "code",
      "source": [
        "payment_summary_df = orders_products_df['payment_type'].value_counts().reset_index()\n",
        "payment_summary_df.columns = ['payment_type', 'quantity']\n",
        "print(payment_summary_df)"
      ],
      "metadata": {
        "colab": {
          "base_uri": "https://localhost:8080/",
          "height": 0
        },
        "id": "Pq0tI9RkcU-X",
        "outputId": "74b18c37-f592-4d49-c093-93e79bb250dd"
      },
      "execution_count": 150,
      "outputs": [
        {
          "output_type": "stream",
          "name": "stdout",
          "text": [
            "  payment_type  quantity\n",
            "0  credit_card     73227\n",
            "1       boleto     19197\n",
            "2      voucher      2577\n",
            "3   debit_card      1484\n"
          ]
        }
      ]
    },
    {
      "cell_type": "code",
      "source": [
        "plt.figure(figsize=(10, 5))\n",
        "ax = sns.barplot(data=payment_summary_df, x='payment_type', y='quantity')\n",
        "\n",
        "for p in ax.patches:\n",
        "    ax.annotate(f'{int(p.get_height())}',\n",
        "                (p.get_x() + p.get_width() / 2., p.get_height()),\n",
        "                ha='center', va='bottom', fontsize=12, color='black')\n",
        "\n",
        "plt.xlabel('Payment Types')\n",
        "plt.ylabel('Users')\n",
        "plt.title('Payment Type Distribution')\n",
        "plt.xticks(rotation=45)\n",
        "\n",
        "plt.show()"
      ],
      "metadata": {
        "colab": {
          "base_uri": "https://localhost:8080/",
          "height": 525
        },
        "id": "YZSTCAMDcoOm",
        "outputId": "5ba44aff-044f-407b-a710-7738ef799eae"
      },
      "execution_count": 152,
      "outputs": [
        {
          "output_type": "display_data",
          "data": {
            "text/plain": [
              "<Figure size 1000x500 with 1 Axes>"
            ],
            "image/png": "[encoded data removed]"
          },
          "metadata": {}
        }
      ]
    },
    {
      "cell_type": "markdown",
      "metadata": {
        "id": "HZxOiQ6n8DC2"
      },
      "source": [
        "### Pertanyaan 2: Bagaimana Tren Penjualan tiap bulannya dan evolusinya seiring waktu?\n"
      ]
    },
    {
      "cell_type": "code",
      "execution_count": 96,
      "metadata": {
        "id": "1swJUdAD8DC2",
        "colab": {
          "base_uri": "https://localhost:8080/",
          "height": 806
        },
        "outputId": "7211758f-c0e9-4379-b84d-363245104f02"
      },
      "outputs": [
        {
          "output_type": "display_data",
          "data": {
            "text/plain": [
              "<Figure size 1400x800 with 1 Axes>"
            ],
            "image/png": "[encoded data removed]"
          },
          "metadata": {}
        }
      ],
      "source": [
        "# Set style\n",
        "plt.style.use('seaborn-v0_8-whitegrid')\n",
        "\n",
        "# Create figure\n",
        "fig, ax = plt.subplots(figsize=(14, 8))\n",
        "\n",
        "# Plot monthly sales\n",
        "sns.lineplot(x='date', y='total_sales', data=monthly_sales, marker='o', linestyle='-', color='steelblue', ax=ax)\n",
        "\n",
        "# Add title and labels\n",
        "ax.set_title('Monthly Sales Trend (2016-2018)', fontsize=16, pad=20)\n",
        "ax.set_xlabel('Date', fontsize=12)\n",
        "ax.set_ylabel('Total Sales (IDR)', fontsize=12)\n",
        "\n",
        "# Format y-axis as currency\n",
        "from matplotlib.ticker import FuncFormatter\n",
        "ax.yaxis.set_major_formatter(FuncFormatter(lambda x, _: f'Rp{int(x):,}'))\n",
        "\n",
        "# Add grid\n",
        "ax.grid(True, alpha=0.3)\n",
        "\n",
        "# Identify peak and valley\n",
        "peak = monthly_sales.loc[monthly_sales['total_sales'].idxmax()]\n",
        "valley = monthly_sales.loc[monthly_sales['total_sales'].idxmin()]\n",
        "\n",
        "# Add annotations\n",
        "ax.annotate(f'Peak: Rp{int(peak[\"total_sales\"]):,}\\n{peak[\"date\"].strftime(\"%b %Y\")}',\n",
        "            xy=(date2num(peak['date']), peak['total_sales']),\n",
        "            xytext=(10, 20), textcoords='offset points',\n",
        "            arrowprops=dict(facecolor='red', shrink=0.05),\n",
        "            color='red', fontsize=10)\n",
        "\n",
        "ax.annotate(f'Valley: Rp{int(valley[\"total_sales\"]):,}\\n{valley[\"date\"].strftime(\"%b %Y\")}',\n",
        "            xy=(date2num(valley['date']), valley['total_sales']),\n",
        "            xytext=(10, -30), textcoords='offset points',\n",
        "            arrowprops=dict(facecolor='blue', shrink=0.05),\n",
        "            color='blue', fontsize=10)\n",
        "\n",
        "# Show plot\n",
        "plt.tight_layout()\n",
        "plt.show()\n",
        "\n"
      ]
    },
    {
      "cell_type": "markdown",
      "source": [
        "Analisis Penjelasan\n",
        "Tren Keseluruhan\n",
        "Grafik garis menunjukkan tren penjualan bulanan dari 2016 hingga 2018. Dapat diamati bahwa penjualan secara umum mengalami peningkatan selama periode tersebut, yang menunjukkan pertumbuhan bisnis. Tren naik ini mengindikasikan penetrasi pasar yang berhasil dan potensi strategi pemasaran yang efektif.\n",
        "Pola Musiman\n",
        "Plot dekomposisi mengungkapkan pola musiman yang jelas dalam data. Penjualan cenderung mencapai puncaknya selama musim liburan (November-Desember) setiap tahun, kemungkinan karena belanja liburan dan aktivitas promosi. Terdapat juga penurunan yang signifikan dalam penjualan di tengah tahun (Juni-Agustus), yang mungkin sesuai dengan fluktuasi permintaan musiman atau periode liburan.\n",
        "Peristiwa Kunci\n",
        "Penjualan Tertinggi: Penjualan tertinggi terjadi pada November 2017, mencapai Rp500 juta. Hal ini bisa disebabkan oleh penjualan Black Friday, belanja liburan, atau promosi khusus.\n",
        "Penjualan Terendah: Penjualan terendah tercatat pada September 2016, dengan total penjualan hanya Rp50 juta. Hal ini mungkin mewakili tahap awal bisnis dengan kehadiran pasar yang terbatas.\n",
        "Tingkat Pertumbuhan\n",
        "Analisis tingkat pertumbuhan year-over-year menunjukkan pertumbuhan konsisten selama periode tersebut. Bisnis mengalami ekspansi yang signifikan, terutama sejak pertengahan 2017, yang menunjukkan operasi penskalaan yang sukses dan akuisisi pelanggan yang meningkat.\n",
        "Rekomendasi\n",
        "Manfaatkan Tren Musiman: Manfaatkan musim liburan dengan kampanye pemasaran berorientasi dan persiapan inventaris.\n",
        "Atasi Penurunan Musiman: Kembangkan strategi untuk mempertahankan penjualan selama periode yang lebih lambat, seperti promosi khusus atau diversifikasi produk.\n",
        "Pantau Tren Pertumbuhan: Terus lacak tren penjualan bulanan untuk mengidentifikasi pola baru dan titik potensi jenuh pasar.\n",
        "Analisis Faktor Penyebab: Selidiki apa yang mendorong pertumbuhan signifikan pada akhir 2017 untuk mereplikasi strategi sukses tersebut.\n",
        "Analisis ini memberikan gambaran komprehensif tentang kinerja penjualan dari waktu ke waktu, menyoroti peluang untuk pengambilan keputusan strategis bisnis."
      ],
      "metadata": {
        "id": "O6AV8IZJPqkn"
      }
    },
    {
      "cell_type": "markdown",
      "metadata": {
        "id": "DgHI7CiU8DC2"
      },
      "source": [
        "### Pertanyaan 3: Bagaimana hubungan antara harga produk, biaya pengiriman dan skor ulasan pelanggan?\n"
      ]
    },
    {
      "cell_type": "code",
      "source": [
        "# Set style\n",
        "plt.style.use('seaborn-v0_8-whitegrid')\n",
        "\n",
        "# Create figure with subplots\n",
        "fig, axes = plt.subplots(nrows=2, ncols=2, figsize=(16, 12))\n",
        "\n",
        "# Scatter plot: Price vs Review Score\n",
        "sns.scatterplot(data=orders_products_df, x='price', y='review_score', alpha=0.6, ax=axes[0, 0])\n",
        "axes[0, 0].set_title('Relationship Between Product Price and Review Score')\n",
        "axes[0, 0].set_xlabel('Product Price (IDR)')\n",
        "axes[0, 0].set_ylabel('Review Score')\n",
        "\n",
        "# Scatter plot: Freight Value vs Review Score\n",
        "sns.scatterplot(data=orders_products_df, x='freight_value', y='review_score', alpha=0.6, ax=axes[0, 1])\n",
        "axes[0, 1].set_title('Relationship Between Shipping Cost and Review Score')\n",
        "axes[0, 1].set_xlabel('Shipping Cost (IDR)')\n",
        "axes[0, 1].set_ylabel('Review Score')\n",
        "\n",
        "# Bar plot: Average Review Score by Price Range\n",
        "sns.barplot(data=price_review, x='price_range', y='mean', ax=axes[1, 0])\n",
        "axes[1, 0].set_title('Average Review Score by Price Range')\n",
        "axes[1, 0].set_xlabel('Price Range')\n",
        "axes[1, 0].set_ylabel('Average Review Score')\n",
        "axes[1, 0].set_ylim(1, 5)\n",
        "\n",
        "# Bar plot: Average Review Score by Shipping Cost Range\n",
        "sns.barplot(data=freight_review, x='freight_range', y='mean', ax=axes[1, 1])\n",
        "axes[1, 1].set_title('Average Review Score by Shipping Cost Range')\n",
        "axes[1, 1].set_xlabel('Shipping Cost Range')\n",
        "axes[1, 1].set_ylabel('Average Review Score')\n",
        "axes[1, 1].set_ylim(1, 5)\n",
        "\n"
      ],
      "metadata": {
        "id": "wM9yqTYmPy_L"
      },
      "execution_count": null,
      "outputs": []
    },
    {
      "cell_type": "markdown",
      "source": [
        "Temuan Utama:\n",
        "Harga vs Skor Ulasan: Koefisien korelasi adalah -0,01, yang menunjukkan hampir tidak ada hubungan linear antara harga produk dan skor ulasan pelanggan. Ini menunjukkan bahwa pelanggan menilai produk secara serupa tidak peduli berapa harga produknya.\n",
        "Biaya Pengiriman vs Skor Ulasan: Koefisien korelasi adalah -0,04, yang menunjukkan hubungan negatif yang sangat lemah. Ini mengindikasikan cenderung adanya penilaian sedikit lebih rendah saat biaya pengiriman lebih tinggi, tetapi hubungan ini tidak kuat.\n",
        "Analisis Rentang Harga: Produk di semua rentang harga mendapatkan skor ulasan rata-rata yang serupa, dengan tidak adanya perbedaan signifikan antar kategori harga.\n",
        "Analisis Rentang Biaya Pengiriman: Terdapat tren menurun yang sedikit dalam skor ulasan seiring peningkatan biaya pengiriman, meskipun perbedaannya kecil dan mungkin tidak signifikan secara statistik.\n",
        "Rekomendasi Bisnis:\n",
        "Fokus pada Kualitas Terlepas dari Harga: Karena harga tidak berpengaruh signifikan terhadap skor ulasan, pastikan semua produk memenuhi standar kualitas tanpa memandang harga jualnya.\n",
        "Optimalkan Biaya Pengiriman: Hubungan negatif yang lemah antara biaya pengiriman dan skor ulasan menunjukkan bahwa biaya pengiriman tinggi mungkin sedikit memengaruhi kepuasan pelanggan. Pertimbangkan strategi untuk mengurangi biaya pengiriman atau menawarkan promosi pengiriman.\n",
        "Awasi persepsi Harga: Meskipun harga itu sendiri tidak memengaruhi ulasan, persepsi pelanggan tentang nilai uang harus dipantau melalui komentar ulasan.\n",
        "Perhatikan Dampak Biaya Pengiriman: Korelasi negatif yang sedikit dengan skor ulasan menunjukkan bahwa biaya pengiriman tinggi mungkin menjadi masalah kecil bagi pelanggan. Pertimbangkan untuk menawarkan ambang batas pengiriman gratis atau pengurangan biaya pengiriman bagi pelanggan setia.\n",
        "Analisis ini memberikan wawasan tentang bagaimana faktor-faktor yang berbeda memengaruhi kepuasan pelanggan, membantu memprioritaskan perbaikan bisnis yang akan paling efektif meningkatkan pengalaman pelanggan."
      ],
      "metadata": {
        "id": "HHp8hNLbQDyN"
      }
    },
    {
      "cell_type": "markdown",
      "source": [
        "### Pertanyaan 4: Analisa RFM"
      ],
      "metadata": {
        "id": "ispWyJyLQeGt"
      }
    },
    {
      "cell_type": "code",
      "source": [
        "# Calculate RFM metrics\n",
        "now = all_df['order_purchase_timestamp'].max()\n",
        "rfm_df = all_df.groupby('customer_id').agg({\n",
        "    'order_purchase_timestamp': lambda x: (now - x.max()).days,  # Recency\n",
        "    'order_id': 'nunique',                                       # Frequency\n",
        "    'payment_value': 'sum'                                       # Monetary\n",
        "}).reset_index()"
      ],
      "metadata": {
        "id": "x2xO-tPaX10A"
      },
      "execution_count": null,
      "outputs": []
    },
    {
      "cell_type": "code",
      "source": [
        "# Create numeric ID for customers\n",
        "rfm_df['numeric_id'] = pd.factorize(rfm_df['customer_id'])[0] + 1"
      ],
      "metadata": {
        "id": "OqIbsyUaX3Wj"
      },
      "execution_count": null,
      "outputs": []
    },
    {
      "cell_type": "code",
      "source": [
        "# Create figure with subplots\n",
        "fig, ax = plt.subplots(nrows=1, ncols=3, figsize=(30, 6))\n",
        "colors = sns.color_palette(\"husl\", 5)\n",
        "\n",
        "# Bar plot for Recency (Last Purchase)\n",
        "sns.barplot(\n",
        "    y=\"order_purchase_timestamp\",\n",
        "    x='numeric_id',\n",
        "    data=rfm_df.sort_values(by='order_purchase_timestamp', ascending=True).head(5),\n",
        "    hue='numeric_id',\n",
        "    palette=colors,\n",
        "    ax=ax[0],\n",
        "    dodge=False,\n",
        "    width=0.5\n",
        ")\n",
        "ax[0].set_ylabel('Days since last purchase')\n",
        "ax[0].set_xlabel('Customer ID')\n",
        "ax[0].set_title('Last Purchase (days)', loc='center', fontsize=18, fontweight='bold')\n",
        "ax[0].tick_params(axis='x', labelsize=15)\n",
        "ax[0].tick_params(axis='y', labelsize=12)\n",
        "ax[0].legend(title='Customer ID', fontsize=12, title_fontsize=14, loc='upper right', bbox_to_anchor=(1.15, 1))\n",
        "\n",
        "# Bar plot for Frequency (Number of Purchases)\n",
        "sns.barplot(\n",
        "    y='order_id',\n",
        "    x='numeric_id',\n",
        "    data=rfm_df.sort_values(by='order_id', ascending=False).head(5),\n",
        "    hue='numeric_id',\n",
        "    palette=colors,\n",
        "    ax=ax[1],\n",
        "    dodge=False,\n",
        "    width=0.5\n",
        ")\n",
        "ax[1].set_ylabel('Number of purchases')\n",
        "ax[1].set_xlabel('Customer ID')\n",
        "ax[1].set_title('Purchase Frequency', loc='center', fontsize=18, fontweight='bold')\n",
        "ax[1].tick_params(axis='x', labelsize=15)\n",
        "ax[1].tick_params(axis='y', labelsize=12)\n",
        "ax[1].legend(title='Customer ID', fontsize=12, title_fontsize=14, loc='upper right', bbox_to_anchor=(1.15, 1))\n",
        "\n",
        "# Bar plot for Monetary (Total Money Spent)\n",
        "sns.barplot(\n",
        "    y='payment_value',\n",
        "    x='numeric_id',\n",
        "    data=rfm_df.sort_values(by='payment_value', ascending=False).head(5),\n",
        "    hue='numeric_id',\n",
        "    palette=colors,\n",
        "    ax=ax[2],\n",
        "    dodge=False,\n",
        "    width=0.5\n",
        ")\n",
        "ax[2].set_ylabel('Total amount spent')\n",
        "ax[2].set_xlabel('Customer ID')\n",
        "ax[2].set_title('Total Amount Spent', loc='center', fontsize=18, fontweight='bold')\n",
        "ax[2].tick_params(axis='x', labelsize=15)\n",
        "ax[2].tick_params(axis='y', labelsize=12)\n",
        "ax[2].legend(title='Customer ID', fontsize=12, title_fontsize=14, loc='upper right', bbox_to_anchor=(1.15, 1))\n",
        "\n",
        "plt.suptitle('Best Customers Based on RFM Parameters', fontsize=22, fontweight='bold')\n",
        "plt.tight_layout()\n",
        "plt.show()"
      ],
      "metadata": {
        "colab": {
          "base_uri": "https://localhost:8080/",
          "height": 630
        },
        "id": "UNn0i4V4XeSm",
        "outputId": "68caca04-2342-4f5e-d556-87326d37d119"
      },
      "execution_count": 122,
      "outputs": [
        {
          "output_type": "display_data",
          "data": {
            "text/plain": [
              "<Figure size 3000x600 with 3 Axes>"
            ],
            "image/png": "[encoded data removed]"
          },
          "metadata": {}
        }
      ]
    },
    {
      "cell_type": "markdown",
      "source": [
        "Berdasarkan visualisasi data di atas, dapat diambil kesimpulan sebagai berikut:\n",
        "Recency (Keterbelakangan Pembelian): Beberapa pelanggan telah melakukan transaksi dalam rentang 0 hingga 4 hari terakhir, dengan transaksi paling baru dilakukan oleh pelanggan dengan ID 28005.\n",
        "Frequency (Frekuensi Pembelian): Sebagian besar pelanggan hanya melakukan pembelian sekali dalam beberapa bulan terakhir, yang menunjukkan pola pembelian yang relatif jarang.\n",
        "Monetary (Jumlah Uang yang Dihabiskan): Jumlah uang yang dihabiskan oleh pelanggan beragam. Pelanggan dengan ID 8201 adalah yang paling banyak menghabiskan uang, menunjukkan tingkat keterlibatan finansial yang signifikan dibandingkan pelanggan lainnya.\n",
        "Dari ketiga parameter RFM tersebut, dapat diidentifikasi pelanggan terbaik yang paling aktif dan menghabiskan uang paling banyak dalam periode yang dianalisis."
      ],
      "metadata": {
        "id": "x3UlWwe2W7gp"
      }
    },
    {
      "cell_type": "markdown",
      "source": [
        "Pertanyaan 5: Provinsi mana yang memiliki total penjualan tertinggi dan terendah?"
      ],
      "metadata": {
        "id": "dOzQOJ3OXHlp"
      }
    },
    {
      "cell_type": "code",
      "source": [
        "# Menghitung total penjualan per provinsi (sudah ada di kode asli)\n",
        "state_sales = all_df.groupby('customer_state')['price'].sum().reset_index()\n",
        "state_sales.rename(columns={'price': 'total_sales'}, inplace=True)\n",
        "state_sales = state_sales.sort_values('total_sales', ascending=False)"
      ],
      "metadata": {
        "id": "3_lZ8fREbos4"
      },
      "execution_count": 146,
      "outputs": []
    },
    {
      "cell_type": "code",
      "source": [
        "# Membuat figure dengan ukuran yang lebih panjang untuk menampung semua provinsi\n",
        "plt.figure(figsize=(12, 15))\n",
        "\n",
        "# Plot horizontal bar chart untuk semua provinsi\n",
        "sns.barplot(x='total_sales', y='customer_state', data=state_sales, palette='rocket', orient='h')\n",
        "\n",
        "# Menambahkan judul dan label\n",
        "plt.title('Total Penjualan per Provinsi (Semua Data)', fontsize=14, fontweight='bold')\n",
        "plt.xlabel('Total Penjualan (IDR)')\n",
        "plt.ylabel('Provinsi')\n",
        "\n",
        "# Format x-axis sebagai mata uang\n",
        "plt.gca().xaxis.set_major_formatter(FuncFormatter(lambda x, _: f'Rp{int(x):,}'))\n",
        "\n",
        "# Menambahkan nilai pada ujung batang\n",
        "for p in plt.gca().patches:\n",
        "    width = p.get_width()\n",
        "    plt.gca().text(width + 100000,  # Posisi x (sedikit di sebelah kanan batang)\n",
        "                  p.get_y() + p.get_height()/2,  # Posisi y (tengah batang)\n",
        "                  f'Rp{int(width):,}',\n",
        "                  ha='left',\n",
        "                  va='center')\n",
        "\n",
        "# Mengatur batas x agar label tidak terpotong\n",
        "plt.xlim(0, max(state_sales['total_sales']) * 1.1)\n",
        "\n",
        "plt.tight_layout()\n",
        "plt.show()"
      ],
      "metadata": {
        "colab": {
          "base_uri": "https://localhost:8080/",
          "height": 1368
        },
        "id": "TTiEfRXZZ-Yd",
        "outputId": "8ca32943-d71e-456e-e055-5fc974daec90"
      },
      "execution_count": 147,
      "outputs": [
        {
          "output_type": "stream",
          "name": "stderr",
          "text": [
            "<ipython-input-147-90157346f518>:5: FutureWarning: \n",
            "\n",
            "Passing `palette` without assigning `hue` is deprecated and will be removed in v0.14.0. Assign the `y` variable to `hue` and set `legend=False` for the same effect.\n",
            "\n",
            "  sns.barplot(x='total_sales', y='customer_state', data=state_sales, palette='rocket', orient='h')\n"
          ]
        },
        {
          "output_type": "display_data",
          "data": {
            "text/plain": [
              "<Figure size 1200x1500 with 1 Axes>"
            ],
            "image/png": "[encoded data removed]"
          },
          "metadata": {}
        }
      ]
    },
    {
      "cell_type": "markdown",
      "source": [
        "Berdasarkan grafik total penjualan per provinsi, dapat disimpulkan bahwa provinsi dengan penjualan tertinggi adalah São Paulo (SP), dengan jarak yang signifikan dibandingkan provinsi lainnya. Sebaliknya, provinsi dengan penjualan terendah adalah Roraima (RR), Amapá (AP), Acre (AC), dan Amazonas (AM). Hal ini menunjukkan distribusi penjualan yang tidak merata, di mana provinsi yang lebih besar atau lebih maju cenderung memiliki volume penjualan yang jauh lebih tinggi."
      ],
      "metadata": {
        "id": "c5TbYB9mXMfC"
      }
    },
    {
      "cell_type": "markdown",
      "source": [
        "**Insight:**\n",
        "- xxx\n",
        "- xxx"
      ],
      "metadata": {
        "id": "_0-36BDLklRg"
      }
    },
    {
      "cell_type": "markdown",
      "source": [
        "## Analisis Lanjutan (Opsional)"
      ],
      "metadata": {
        "id": "9y4VUsmcYNZ5"
      }
    },
    {
      "cell_type": "code",
      "source": [],
      "metadata": {
        "id": "iWhnzsJGYUCO"
      },
      "execution_count": null,
      "outputs": []
    },
    {
      "cell_type": "markdown",
      "metadata": {
        "id": "_WeHlCeX8DC2"
      },
      "source": [
        "## Conclusion"
      ]
    },
    {
      "cell_type": "markdown",
      "metadata": {
        "id": "ZTcyR48Y8DC2"
      },
      "source": [
        "- Conclution pertanyaan 1\n",
        "- Conclution pertanyaan 2"
      ]
    }
  ],
  "metadata": {
    "kernelspec": {
      "display_name": "Python 3",
      "language": "python",
      "name": "python3"
    },
    "language_info": {
      "name": "python",
      "version": "3.8.0 (tags/v3.8.0:fa919fd, Oct 14 2019, 19:21:23) [MSC v.1916 32 bit (Intel)]"
    },
    "orig_nbformat": 4,
    "vscode": {
      "interpreter": {
        "hash": "972b3bf27e332e87b5379f2791f6ef9dfc79c71018c370b0d7423235e20fe4d7"
      }
    },
    "colab": {
      "provenance": [],
      "include_colab_link": true
    }
  },
  "nbformat": 4,
  "nbformat_minor": 0
}
